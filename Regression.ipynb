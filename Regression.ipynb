{
 "cells": [
  {
   "cell_type": "markdown",
   "metadata": {},
   "source": [
    "# Regression Modelling"
   ]
  },
  {
   "cell_type": "code",
   "execution_count": 28,
   "metadata": {},
   "outputs": [],
   "source": [
    "import pandas as pd\n",
    "import numpy as np\n",
    "import matplotlib.pyplot as plt\n",
    "import seaborn as sns\n",
    "import time\n",
    "from sklearn.model_selection import train_test_split\n",
    "from sklearn.metrics import accuracy_score, confusion_matrix, precision_recall_fscore_support\n",
    "%matplotlib inline"
   ]
  },
  {
   "cell_type": "code",
   "execution_count": 29,
   "metadata": {},
   "outputs": [
    {
     "data": {
      "text/html": [
       "<div>\n",
       "<style scoped>\n",
       "    .dataframe tbody tr th:only-of-type {\n",
       "        vertical-align: middle;\n",
       "    }\n",
       "\n",
       "    .dataframe tbody tr th {\n",
       "        vertical-align: top;\n",
       "    }\n",
       "\n",
       "    .dataframe thead th {\n",
       "        text-align: right;\n",
       "    }\n",
       "</style>\n",
       "<table border=\"1\" class=\"dataframe\">\n",
       "  <thead>\n",
       "    <tr style=\"text-align: right;\">\n",
       "      <th></th>\n",
       "      <th>gender</th>\n",
       "      <th>race/ethnicity</th>\n",
       "      <th>parental level of education</th>\n",
       "      <th>lunch</th>\n",
       "      <th>test preparation course</th>\n",
       "      <th>math score</th>\n",
       "      <th>reading score</th>\n",
       "      <th>writing score</th>\n",
       "    </tr>\n",
       "  </thead>\n",
       "  <tbody>\n",
       "    <tr>\n",
       "      <th>0</th>\n",
       "      <td>female</td>\n",
       "      <td>group B</td>\n",
       "      <td>bachelor's degree</td>\n",
       "      <td>standard</td>\n",
       "      <td>none</td>\n",
       "      <td>72</td>\n",
       "      <td>72</td>\n",
       "      <td>74</td>\n",
       "    </tr>\n",
       "    <tr>\n",
       "      <th>1</th>\n",
       "      <td>female</td>\n",
       "      <td>group C</td>\n",
       "      <td>some college</td>\n",
       "      <td>standard</td>\n",
       "      <td>completed</td>\n",
       "      <td>69</td>\n",
       "      <td>90</td>\n",
       "      <td>88</td>\n",
       "    </tr>\n",
       "    <tr>\n",
       "      <th>2</th>\n",
       "      <td>female</td>\n",
       "      <td>group B</td>\n",
       "      <td>master's degree</td>\n",
       "      <td>standard</td>\n",
       "      <td>none</td>\n",
       "      <td>90</td>\n",
       "      <td>95</td>\n",
       "      <td>93</td>\n",
       "    </tr>\n",
       "    <tr>\n",
       "      <th>3</th>\n",
       "      <td>male</td>\n",
       "      <td>group A</td>\n",
       "      <td>associate's degree</td>\n",
       "      <td>free/reduced</td>\n",
       "      <td>none</td>\n",
       "      <td>47</td>\n",
       "      <td>57</td>\n",
       "      <td>44</td>\n",
       "    </tr>\n",
       "    <tr>\n",
       "      <th>4</th>\n",
       "      <td>male</td>\n",
       "      <td>group C</td>\n",
       "      <td>some college</td>\n",
       "      <td>standard</td>\n",
       "      <td>none</td>\n",
       "      <td>76</td>\n",
       "      <td>78</td>\n",
       "      <td>75</td>\n",
       "    </tr>\n",
       "  </tbody>\n",
       "</table>\n",
       "</div>"
      ],
      "text/plain": [
       "   gender race/ethnicity parental level of education         lunch  \\\n",
       "0  female        group B           bachelor's degree      standard   \n",
       "1  female        group C                some college      standard   \n",
       "2  female        group B             master's degree      standard   \n",
       "3    male        group A          associate's degree  free/reduced   \n",
       "4    male        group C                some college      standard   \n",
       "\n",
       "  test preparation course  math score  reading score  writing score  \n",
       "0                    none          72             72             74  \n",
       "1               completed          69             90             88  \n",
       "2                    none          90             95             93  \n",
       "3                    none          47             57             44  \n",
       "4                    none          76             78             75  "
      ]
     },
     "metadata": {},
     "output_type": "display_data"
    },
    {
     "data": {
      "text/html": [
       "<div>\n",
       "<style scoped>\n",
       "    .dataframe tbody tr th:only-of-type {\n",
       "        vertical-align: middle;\n",
       "    }\n",
       "\n",
       "    .dataframe tbody tr th {\n",
       "        vertical-align: top;\n",
       "    }\n",
       "\n",
       "    .dataframe thead th {\n",
       "        text-align: right;\n",
       "    }\n",
       "</style>\n",
       "<table border=\"1\" class=\"dataframe\">\n",
       "  <thead>\n",
       "    <tr style=\"text-align: right;\">\n",
       "      <th></th>\n",
       "      <th>math score</th>\n",
       "      <th>reading score</th>\n",
       "      <th>writing score</th>\n",
       "    </tr>\n",
       "  </thead>\n",
       "  <tbody>\n",
       "    <tr>\n",
       "      <th>count</th>\n",
       "      <td>1000.00000</td>\n",
       "      <td>1000.000000</td>\n",
       "      <td>1000.000000</td>\n",
       "    </tr>\n",
       "    <tr>\n",
       "      <th>mean</th>\n",
       "      <td>66.08900</td>\n",
       "      <td>69.169000</td>\n",
       "      <td>68.054000</td>\n",
       "    </tr>\n",
       "    <tr>\n",
       "      <th>std</th>\n",
       "      <td>15.16308</td>\n",
       "      <td>14.600192</td>\n",
       "      <td>15.195657</td>\n",
       "    </tr>\n",
       "    <tr>\n",
       "      <th>min</th>\n",
       "      <td>0.00000</td>\n",
       "      <td>17.000000</td>\n",
       "      <td>10.000000</td>\n",
       "    </tr>\n",
       "    <tr>\n",
       "      <th>25%</th>\n",
       "      <td>57.00000</td>\n",
       "      <td>59.000000</td>\n",
       "      <td>57.750000</td>\n",
       "    </tr>\n",
       "    <tr>\n",
       "      <th>50%</th>\n",
       "      <td>66.00000</td>\n",
       "      <td>70.000000</td>\n",
       "      <td>69.000000</td>\n",
       "    </tr>\n",
       "    <tr>\n",
       "      <th>75%</th>\n",
       "      <td>77.00000</td>\n",
       "      <td>79.000000</td>\n",
       "      <td>79.000000</td>\n",
       "    </tr>\n",
       "    <tr>\n",
       "      <th>max</th>\n",
       "      <td>100.00000</td>\n",
       "      <td>100.000000</td>\n",
       "      <td>100.000000</td>\n",
       "    </tr>\n",
       "  </tbody>\n",
       "</table>\n",
       "</div>"
      ],
      "text/plain": [
       "       math score  reading score  writing score\n",
       "count  1000.00000    1000.000000    1000.000000\n",
       "mean     66.08900      69.169000      68.054000\n",
       "std      15.16308      14.600192      15.195657\n",
       "min       0.00000      17.000000      10.000000\n",
       "25%      57.00000      59.000000      57.750000\n",
       "50%      66.00000      70.000000      69.000000\n",
       "75%      77.00000      79.000000      79.000000\n",
       "max     100.00000     100.000000     100.000000"
      ]
     },
     "metadata": {},
     "output_type": "display_data"
    },
    {
     "data": {
      "text/plain": [
       "(1000, 8)"
      ]
     },
     "metadata": {},
     "output_type": "display_data"
    }
   ],
   "source": [
    "# import library to display multiple outputs\n",
    "from IPython.display import display\n",
    "\n",
    "# Importing dataset\n",
    "data = pd.read_csv('D:/Master/CDS503 Machine Learning/Project/Dataset/StudentsPerformance.csv')\n",
    "\n",
    "# see some of it, their overall statistics and dimensions\n",
    "display(data.head(5))\n",
    "display(data.describe())\n",
    "display(data.shape)"
   ]
  },
  {
   "cell_type": "markdown",
   "metadata": {},
   "source": [
    "Let's take a look at these score comparison on each other "
   ]
  },
  {
   "cell_type": "code",
   "execution_count": 30,
   "metadata": {},
   "outputs": [
    {
     "data": {
      "image/png": "[encoded data removed]",
      "text/plain": [
       "<Figure size 1080x360 with 3 Axes>"
      ]
     },
     "metadata": {
      "needs_background": "light"
     },
     "output_type": "display_data"
    }
   ],
   "source": [
    "# size the figure to fit 3 figures on the same line\n",
    "plt.figure(3,figsize=(15,5))\n",
    "\n",
    "# subplot 1\n",
    "plt.subplot(1,3,1)\n",
    "# scatter plot 1\n",
    "plt.scatter(x='math score', y='writing score',data=data)\n",
    "plt.xlabel('math score')\n",
    "plt.ylabel('writing score')\n",
    "plt.title(\"Math Score vs Writing Score\");\n",
    "\n",
    "# subplot 2\n",
    "plt.subplot(1,3,2)\n",
    "#scatter plot 2\n",
    "plt.scatter(x='math score', y='reading score',data=data)\n",
    "plt.xlabel('math score')\n",
    "plt.ylabel('reading score')\n",
    "plt.title(\"Math Score vs Reading Score\");\n",
    "\n",
    "# subplot 3\n",
    "plt.subplot(1,3,3)\n",
    "#scatter plot 3\n",
    "plt.scatter(x='writing score', y='reading score',data=data)\n",
    "plt.xlabel('writing score')\n",
    "plt.ylabel('reading score')\n",
    "plt.title(\"Writing Score vs Reading Score\");\n",
    "\n",
    "# show the resulting plot\n",
    "plt.show()"
   ]
  },
  {
   "cell_type": "code",
   "execution_count": 31,
   "metadata": {},
   "outputs": [
    {
     "data": {
      "image/png": "[encoded data removed]",
      "text/plain": [
       "<Figure size 1080x360 with 3 Axes>"
      ]
     },
     "metadata": {
      "needs_background": "light"
     },
     "output_type": "display_data"
    }
   ],
   "source": [
    "# size the figure to fit 3 figures on the same line\n",
    "plt.figure(3,figsize=(15,5))\n",
    "\n",
    "# subplot 1\n",
    "plt.subplot(1,3,1)\n",
    "#regression plot 1\n",
    "sns.regplot(x='math score', y='writing score',data=data)\n",
    "plt.xlabel(\"Maths Score\")\n",
    "plt.ylabel(\"Writing Score\")\n",
    "plt.title(\"Maths Score vs Writing Score\")\n",
    "\n",
    "# subplot 2\n",
    "plt.subplot(1,3,2)\n",
    "#regression plot 2\n",
    "sns.regplot(x='math score', y='reading score',data=data)\n",
    "plt.xlabel(\"Maths Score\")\n",
    "plt.ylabel(\"Reading Score\")\n",
    "plt.title(\"Maths Score vs Reading Score\")\n",
    "\n",
    "# subplot 3\n",
    "plt.subplot(1,3,3)\n",
    "#regression plot 3\n",
    "sns.regplot(x='writing score', y='reading score',data=data)\n",
    "plt.xlabel(\"Writing Score\");\n",
    "plt.ylabel(\"Reading Score\")\n",
    "plt.title(\"Writing Score vs Reading Score\");\n",
    "\n",
    "# show the resulting plot\n",
    "plt.show()"
   ]
  },
  {
   "cell_type": "markdown",
   "metadata": {},
   "source": [
    "1. Transforming all categorical data into numerical data"
   ]
  },
  {
   "cell_type": "code",
   "execution_count": 32,
   "metadata": {},
   "outputs": [],
   "source": [
    "# convert categorical variable to numeric\n",
    "data[\"gender_cleaned\"] = np.where(data[\"gender\"]==\"male\", 0, 1)\n",
    "data[\"race/ethnicity_cleaned\"] = np.where(data[\"race/ethnicity\"]==\"group A\", 0,\n",
    "                                         np.where(data[\"race/ethnicity\"]==\"group B\", 1,\n",
    "                                                np.where(data[\"race/ethnicity\"]==\"group C\", 2,\n",
    "                                                        np.where(data[\"race/ethnicity\"]==\"group D\", 3, 4))))\n",
    "data[\"parental_education_cleaned\"] = np.where(data[\"parental level of education\"]==\"high school\", 0,\n",
    "                                         np.where(data[\"parental level of education\"]==\"some high school\", 1,\n",
    "                                                np.where(data[\"parental level of education\"]==\"some college\", 2,\n",
    "                                                         np.where(data[\"parental level of education\"]==\"bachelor's degree\", 3,\n",
    "                                                                  np.where(data[\"parental level of education\"]==\"associate's degree\", 4, 5)))))\n",
    "data[\"lunch_cleaned\"] = np.where(data[\"lunch\"]==\"standard\", 0, 1)\n",
    "data[\"test_preparation_cleaned\"] = np.where(data[\"test preparation course\"]==\"none\", 0, 1)"
   ]
  },
  {
   "cell_type": "code",
   "execution_count": 33,
   "metadata": {},
   "outputs": [
    {
     "name": "stdout",
     "output_type": "stream",
     "text": [
      "1    518\n",
      "0    482\n",
      "Name: gender_cleaned, dtype: int64\n",
      "2    319\n",
      "3    262\n",
      "1    190\n",
      "4    140\n",
      "0     89\n",
      "Name: race/ethnicity_cleaned, dtype: int64\n",
      "2    226\n",
      "4    222\n",
      "0    196\n",
      "1    179\n",
      "3    118\n",
      "5     59\n",
      "Name: parental_education_cleaned, dtype: int64\n",
      "0    645\n",
      "1    355\n",
      "Name: lunch_cleaned, dtype: int64\n",
      "0    642\n",
      "1    358\n",
      "Name: test_preparation_cleaned, dtype: int64\n"
     ]
    }
   ],
   "source": [
    "print(data[\"gender_cleaned\"].value_counts())\n",
    "print(data[\"race/ethnicity_cleaned\"].value_counts())\n",
    "print(data[\"parental_education_cleaned\"].value_counts())\n",
    "print(data[\"lunch_cleaned\"].value_counts())\n",
    "print(data[\"test_preparation_cleaned\"].value_counts())"
   ]
  },
  {
   "cell_type": "code",
   "execution_count": 34,
   "metadata": {
    "scrolled": true
   },
   "outputs": [
    {
     "name": "stdout",
     "output_type": "stream",
     "text": [
      "<class 'pandas.core.frame.DataFrame'>\n",
      "RangeIndex: 1000 entries, 0 to 999\n",
      "Data columns (total 8 columns):\n",
      " #   Column                      Non-Null Count  Dtype\n",
      "---  ------                      --------------  -----\n",
      " 0   math score                  1000 non-null   int64\n",
      " 1   reading score               1000 non-null   int64\n",
      " 2   writing score               1000 non-null   int64\n",
      " 3   gender_cleaned              1000 non-null   int32\n",
      " 4   race/ethnicity_cleaned      1000 non-null   int32\n",
      " 5   parental_education_cleaned  1000 non-null   int32\n",
      " 6   lunch_cleaned               1000 non-null   int32\n",
      " 7   test_preparation_cleaned    1000 non-null   int32\n",
      "dtypes: int32(5), int64(3)\n",
      "memory usage: 43.1 KB\n"
     ]
    }
   ],
   "source": [
    "#remove the old attributes after cleaned\n",
    "data = data.drop(columns=['lunch','gender','race/ethnicity','parental level of education','test preparation course'])\n",
    "data.info()"
   ]
  },
  {
   "cell_type": "code",
   "execution_count": 35,
   "metadata": {},
   "outputs": [
    {
     "data": {
      "text/plain": [
       "lunch_cleaned                -0.350877\n",
       "gender_cleaned               -0.167982\n",
       "parental_education_cleaned    0.161414\n",
       "test_preparation_cleaned      0.177702\n",
       "race/ethnicity_cleaned        0.216415\n",
       "writing score                 0.802642\n",
       "reading score                 0.817580\n",
       "math score                    1.000000\n",
       "Name: math score, dtype: float64"
      ]
     },
     "execution_count": 35,
     "metadata": {},
     "output_type": "execute_result"
    }
   ],
   "source": [
    "corr_matrix = data.corr()\n",
    "corr_matrix['math score'].sort_values(ascending=True)"
   ]
  },
  {
   "cell_type": "markdown",
   "metadata": {},
   "source": [
    "Looks like writing and reading score close to math score."
   ]
  },
  {
   "cell_type": "code",
   "execution_count": 36,
   "metadata": {},
   "outputs": [
    {
     "data": {
      "text/plain": [
       "(1000, 2)"
      ]
     },
     "metadata": {},
     "output_type": "display_data"
    }
   ],
   "source": [
    "#select specific/related features\n",
    "used_features=[ \n",
    "    \"reading score\",\n",
    "    \"writing score\",\n",
    "]\n",
    "\n",
    "x = data[used_features] # select all attributes\n",
    "y = data[\"math score\"] #class target\n",
    "\n",
    "display(x.shape)"
   ]
  },
  {
   "cell_type": "code",
   "execution_count": 37,
   "metadata": {},
   "outputs": [],
   "source": [
    "x = data [used_features]\n",
    "y = data[\"math score\"]\n",
    "\n",
    "#import machine learning library to sample the data\n",
    "from sklearn.model_selection import train_test_split\n",
    "\n",
    "# split the data into training data and test data\n",
    "x_train,x_test,y_train,y_test = train_test_split(x, y, test_size=0.3, random_state=0)"
   ]
  },
  {
   "cell_type": "code",
   "execution_count": 38,
   "metadata": {},
   "outputs": [
    {
     "name": "stdout",
     "output_type": "stream",
     "text": [
      "Estimated intercept coefficients:  5.816466220688255\n",
      "Number of coefficients:  2\n",
      "Coefficients:  [0.64334721 0.23321148]\n"
     ]
    }
   ],
   "source": [
    "#least square for linear regression\n",
    "from sklearn.linear_model import LinearRegression\n",
    "reg_ls = LinearRegression()\n",
    "\n",
    "#fit method to train data\n",
    "reg_ls.fit(x_train, y_train)\n",
    "reg_ls.score(x_train, y_train)\n",
    "\n",
    "#print intercept, coefficient\n",
    "print('Estimated intercept coefficients: ', reg_ls.intercept_)\n",
    "print('Number of coefficients: ', len(reg_ls.coef_))\n",
    "print('Coefficients: ', reg_ls.coef_)"
   ]
  },
  {
   "cell_type": "code",
   "execution_count": 39,
   "metadata": {},
   "outputs": [
    {
     "data": {
      "text/html": [
       "<div>\n",
       "<style scoped>\n",
       "    .dataframe tbody tr th:only-of-type {\n",
       "        vertical-align: middle;\n",
       "    }\n",
       "\n",
       "    .dataframe tbody tr th {\n",
       "        vertical-align: top;\n",
       "    }\n",
       "\n",
       "    .dataframe thead th {\n",
       "        text-align: right;\n",
       "    }\n",
       "</style>\n",
       "<table border=\"1\" class=\"dataframe\">\n",
       "  <thead>\n",
       "    <tr style=\"text-align: right;\">\n",
       "      <th></th>\n",
       "      <th>used_features</th>\n",
       "      <th>estimatedCoefficients</th>\n",
       "    </tr>\n",
       "  </thead>\n",
       "  <tbody>\n",
       "    <tr>\n",
       "      <th>0</th>\n",
       "      <td>reading score</td>\n",
       "      <td>0.643347</td>\n",
       "    </tr>\n",
       "    <tr>\n",
       "      <th>1</th>\n",
       "      <td>writing score</td>\n",
       "      <td>0.233211</td>\n",
       "    </tr>\n",
       "  </tbody>\n",
       "</table>\n",
       "</div>"
      ],
      "text/plain": [
       "   used_features estimatedCoefficients\n",
       "0  reading score              0.643347\n",
       "1  writing score              0.233211"
      ]
     },
     "execution_count": 39,
     "metadata": {},
     "output_type": "execute_result"
    }
   ],
   "source": [
    "pd.DataFrame(np.array((x_train.columns, reg_ls.coef_)).T, columns=['used_features', 'estimatedCoefficients'])"
   ]
  },
  {
   "cell_type": "code",
   "execution_count": 40,
   "metadata": {},
   "outputs": [
    {
     "data": {
      "text/plain": [
       "array([69.39511516, 69.57203941, 47.07101207, 60.62952822, 73.7216214 ])"
      ]
     },
     "execution_count": 40,
     "metadata": {},
     "output_type": "execute_result"
    }
   ],
   "source": [
    "#prediction\n",
    "reg_ls.predict(x_test)[0:5]"
   ]
  },
  {
   "cell_type": "code",
   "execution_count": 41,
   "metadata": {},
   "outputs": [
    {
     "data": {
      "text/plain": [
       "993    62\n",
       "859    87\n",
       "298    40\n",
       "553    77\n",
       "672    69\n",
       "Name: math score, dtype: int64"
      ]
     },
     "execution_count": 41,
     "metadata": {},
     "output_type": "execute_result"
    }
   ],
   "source": [
    "#true value \n",
    "y_test[0:5]"
   ]
  },
  {
   "cell_type": "code",
   "execution_count": 42,
   "metadata": {},
   "outputs": [
    {
     "data": {
      "text/plain": [
       "[<matplotlib.lines.Line2D at 0x184593dd760>]"
      ]
     },
     "execution_count": 42,
     "metadata": {},
     "output_type": "execute_result"
    },
    {
     "data": {
      "image/png": "[encoded data removed]",
      "text/plain": [
       "<Figure size 432x288 with 1 Axes>"
      ]
     },
     "metadata": {
      "needs_background": "light"
     },
     "output_type": "display_data"
    }
   ],
   "source": [
    "#prediction and plot regression\n",
    "y_pred = reg_ls.predict(x_test)\n",
    "\n",
    "# plot prediction and actual data\n",
    "plt.scatter(y_test, y_pred)\n",
    "plt.xlabel('Actual Score')\n",
    "plt.ylabel('Predicted Score')\n",
    "plt.title('Actual vs Predicted Score')\n",
    "\n",
    "# plot a line, a perfect prediction would all fall on this line\n",
    "x = np.linspace(0, 100, 200)\n",
    "y = x\n",
    "plt.plot(x, y, 'r')"
   ]
  },
  {
   "cell_type": "code",
   "execution_count": 43,
   "metadata": {},
   "outputs": [
    {
     "name": "stdout",
     "output_type": "stream",
     "text": [
      "7.315471970275679\n",
      "79.51141648093756\n",
      "0.6051563489724487\n"
     ]
    }
   ],
   "source": [
    "# check error prediction\n",
    "from sklearn.metrics import mean_absolute_error, mean_squared_error, r2_score\n",
    "print(mean_absolute_error(y_test, y_pred))\n",
    "print(mean_squared_error(y_test, y_pred))\n",
    "print(r2_score(y_test, y_pred))"
   ]
  },
  {
   "cell_type": "markdown",
   "metadata": {},
   "source": [
    "Prediction Math Score from Writing Score and Reading Score shows 60.5% for R-squared"
   ]
  },
  {
   "cell_type": "code",
   "execution_count": 44,
   "metadata": {},
   "outputs": [
    {
     "data": {
      "text/plain": [
       "lunch_cleaned                -0.229560\n",
       "race/ethnicity_cleaned        0.145253\n",
       "parental_education_cleaned    0.195295\n",
       "test_preparation_cleaned      0.241780\n",
       "gender_cleaned                0.244313\n",
       "math score                    0.817580\n",
       "writing score                 0.954598\n",
       "reading score                 1.000000\n",
       "Name: reading score, dtype: float64"
      ]
     },
     "execution_count": 44,
     "metadata": {},
     "output_type": "execute_result"
    }
   ],
   "source": [
    "corr_matrix = data.corr()\n",
    "corr_matrix['reading score'].sort_values(ascending=True)"
   ]
  },
  {
   "cell_type": "code",
   "execution_count": 45,
   "metadata": {},
   "outputs": [
    {
     "data": {
      "text/plain": [
       "(1000, 2)"
      ]
     },
     "metadata": {},
     "output_type": "display_data"
    }
   ],
   "source": [
    "#select specific/related features\n",
    "used_features=[ \n",
    "    \"math score\",\n",
    "    \"writing score\",\n",
    "]\n",
    "\n",
    "x = data[used_features] # select all attributes\n",
    "y = data[\"reading score\"] #class target\n",
    "\n",
    "display(x.shape)"
   ]
  },
  {
   "cell_type": "code",
   "execution_count": 46,
   "metadata": {},
   "outputs": [],
   "source": [
    "x = data [used_features]\n",
    "y = data[\"reading score\"]\n",
    "\n",
    "#import machine learning library to sample the data\n",
    "from sklearn.model_selection import train_test_split\n",
    "\n",
    "# split the data into training data and test data\n",
    "x_train,x_test,y_train,y_test = train_test_split(x, y, test_size=0.3, random_state=0)"
   ]
  },
  {
   "cell_type": "code",
   "execution_count": 47,
   "metadata": {},
   "outputs": [
    {
     "name": "stdout",
     "output_type": "stream",
     "text": [
      "Estimated intercept coefficients:  5.555576881283358\n",
      "Number of coefficients:  2\n",
      "Coefficients:  [0.15971378 0.78085187]\n"
     ]
    }
   ],
   "source": [
    "#least square for linear regression\n",
    "from sklearn.linear_model import LinearRegression\n",
    "reg_ls = LinearRegression()\n",
    "\n",
    "#fit method to train data\n",
    "reg_ls.fit(x_train, y_train)\n",
    "reg_ls.score(x_train, y_train)\n",
    "\n",
    "#print intercept, coefficient\n",
    "print('Estimated intercept coefficients: ', reg_ls.intercept_)\n",
    "print('Number of coefficients: ', len(reg_ls.coef_))\n",
    "print('Coefficients: ', reg_ls.coef_)"
   ]
  },
  {
   "cell_type": "code",
   "execution_count": 48,
   "metadata": {},
   "outputs": [
    {
     "data": {
      "text/html": [
       "<div>\n",
       "<style scoped>\n",
       "    .dataframe tbody tr th:only-of-type {\n",
       "        vertical-align: middle;\n",
       "    }\n",
       "\n",
       "    .dataframe tbody tr th {\n",
       "        vertical-align: top;\n",
       "    }\n",
       "\n",
       "    .dataframe thead th {\n",
       "        text-align: right;\n",
       "    }\n",
       "</style>\n",
       "<table border=\"1\" class=\"dataframe\">\n",
       "  <thead>\n",
       "    <tr style=\"text-align: right;\">\n",
       "      <th></th>\n",
       "      <th>used_features</th>\n",
       "      <th>estimatedCoefficients</th>\n",
       "    </tr>\n",
       "  </thead>\n",
       "  <tbody>\n",
       "    <tr>\n",
       "      <th>0</th>\n",
       "      <td>math score</td>\n",
       "      <td>0.159714</td>\n",
       "    </tr>\n",
       "    <tr>\n",
       "      <th>1</th>\n",
       "      <td>writing score</td>\n",
       "      <td>0.780852</td>\n",
       "    </tr>\n",
       "  </tbody>\n",
       "</table>\n",
       "</div>"
      ],
      "text/plain": [
       "   used_features estimatedCoefficients\n",
       "0     math score              0.159714\n",
       "1  writing score              0.780852"
      ]
     },
     "execution_count": 48,
     "metadata": {},
     "output_type": "execute_result"
    }
   ],
   "source": [
    "pd.DataFrame(np.array((x_train.columns, reg_ls.coef_)).T, columns=['used_features', 'estimatedCoefficients'])"
   ]
  },
  {
   "cell_type": "code",
   "execution_count": 49,
   "metadata": {},
   "outputs": [
    {
     "data": {
      "text/plain": [
       "993    72\n",
       "859    73\n",
       "298    46\n",
       "553    62\n",
       "672    78\n",
       "Name: reading score, dtype: int64"
      ]
     },
     "execution_count": 49,
     "metadata": {},
     "output_type": "execute_result"
    }
   ],
   "source": [
    "#prediction\n",
    "reg_ls.predict(x_test)[0:5]\n",
    "#true value \n",
    "y_test[0:5]"
   ]
  },
  {
   "cell_type": "code",
   "execution_count": 50,
   "metadata": {},
   "outputs": [
    {
     "data": {
      "text/plain": [
       "[<matplotlib.lines.Line2D at 0x18459162a60>]"
      ]
     },
     "execution_count": 50,
     "metadata": {},
     "output_type": "execute_result"
    },
    {
     "data": {
      "image/png": "[encoded data removed]",
      "text/plain": [
       "<Figure size 432x288 with 1 Axes>"
      ]
     },
     "metadata": {
      "needs_background": "light"
     },
     "output_type": "display_data"
    }
   ],
   "source": [
    "#prediction and plot regression\n",
    "y_pred = reg_ls.predict(x_test)\n",
    "\n",
    "# plot prediction and actual data\n",
    "plt.scatter(y_test, y_pred)\n",
    "plt.xlabel('Actual Score')\n",
    "plt.ylabel('Predicted Score')\n",
    "plt.title('Actual vs Predicted Score')\n",
    "\n",
    "# plot a line, a perfect prediction would all fall on this line\n",
    "x = np.linspace(0, 100, 200)\n",
    "y = x\n",
    "plt.plot(x, y, 'r')"
   ]
  },
  {
   "cell_type": "code",
   "execution_count": 51,
   "metadata": {},
   "outputs": [
    {
     "name": "stdout",
     "output_type": "stream",
     "text": [
      "3.162679184393264\n",
      "15.56039844552984\n",
      "0.9221951506053814\n"
     ]
    }
   ],
   "source": [
    "# check error prediction\n",
    "from sklearn.metrics import mean_absolute_error, mean_squared_error, r2_score\n",
    "print(mean_absolute_error(y_test, y_pred))\n",
    "print(mean_squared_error(y_test, y_pred))\n",
    "print(r2_score(y_test, y_pred))"
   ]
  },
  {
   "cell_type": "markdown",
   "metadata": {},
   "source": [
    "Prediction Reading Score from Math Score and Writing Score shows 92.2% for R-squared"
   ]
  },
  {
   "cell_type": "code",
   "execution_count": 52,
   "metadata": {},
   "outputs": [
    {
     "data": {
      "text/plain": [
       "lunch_cleaned                -0.245769\n",
       "race/ethnicity_cleaned        0.165691\n",
       "parental_education_cleaned    0.232843\n",
       "gender_cleaned                0.301225\n",
       "test_preparation_cleaned      0.312946\n",
       "math score                    0.802642\n",
       "reading score                 0.954598\n",
       "writing score                 1.000000\n",
       "Name: writing score, dtype: float64"
      ]
     },
     "execution_count": 52,
     "metadata": {},
     "output_type": "execute_result"
    }
   ],
   "source": [
    "corr_matrix = data.corr()\n",
    "corr_matrix['writing score'].sort_values(ascending=True)"
   ]
  },
  {
   "cell_type": "code",
   "execution_count": 53,
   "metadata": {},
   "outputs": [
    {
     "data": {
      "text/plain": [
       "(1000, 2)"
      ]
     },
     "metadata": {},
     "output_type": "display_data"
    }
   ],
   "source": [
    "#select specific/related features\n",
    "used_features=[ \n",
    "    \"math score\",\n",
    "    \"reading score\",\n",
    "]\n",
    "\n",
    "x = data[used_features] # select all attributes\n",
    "y = data[\"writing score\"] #class target\n",
    "\n",
    "display(x.shape)"
   ]
  },
  {
   "cell_type": "code",
   "execution_count": 54,
   "metadata": {},
   "outputs": [],
   "source": [
    "x = data [used_features]\n",
    "y = data[\"writing score\"]\n",
    "\n",
    "#import machine learning library to sample the data\n",
    "from sklearn.model_selection import train_test_split\n",
    "\n",
    "# split the data into training data and test data\n",
    "x_train,x_test,y_train,y_test = train_test_split(x, y, test_size=0.3, random_state=0)"
   ]
  },
  {
   "cell_type": "code",
   "execution_count": 55,
   "metadata": {},
   "outputs": [
    {
     "name": "stdout",
     "output_type": "stream",
     "text": [
      "Estimated intercept coefficients:  -1.2856918162661657\n",
      "Number of coefficients:  2\n",
      "Coefficients:  [0.06929029 0.93453193]\n"
     ]
    }
   ],
   "source": [
    "#least square for linear regression\n",
    "from sklearn.linear_model import LinearRegression\n",
    "reg_ls = LinearRegression()\n",
    "\n",
    "#fit method to train data\n",
    "reg_ls.fit(x_train, y_train)\n",
    "reg_ls.score(x_train, y_train)\n",
    "\n",
    "#print intercept, coefficient\n",
    "print('Estimated intercept coefficients: ', reg_ls.intercept_)\n",
    "print('Number of coefficients: ', len(reg_ls.coef_))\n",
    "print('Coefficients: ', reg_ls.coef_)"
   ]
  },
  {
   "cell_type": "code",
   "execution_count": 56,
   "metadata": {},
   "outputs": [
    {
     "data": {
      "text/html": [
       "<div>\n",
       "<style scoped>\n",
       "    .dataframe tbody tr th:only-of-type {\n",
       "        vertical-align: middle;\n",
       "    }\n",
       "\n",
       "    .dataframe tbody tr th {\n",
       "        vertical-align: top;\n",
       "    }\n",
       "\n",
       "    .dataframe thead th {\n",
       "        text-align: right;\n",
       "    }\n",
       "</style>\n",
       "<table border=\"1\" class=\"dataframe\">\n",
       "  <thead>\n",
       "    <tr style=\"text-align: right;\">\n",
       "      <th></th>\n",
       "      <th>used_features</th>\n",
       "      <th>estimatedCoefficients</th>\n",
       "    </tr>\n",
       "  </thead>\n",
       "  <tbody>\n",
       "    <tr>\n",
       "      <th>0</th>\n",
       "      <td>math score</td>\n",
       "      <td>0.0692903</td>\n",
       "    </tr>\n",
       "    <tr>\n",
       "      <th>1</th>\n",
       "      <td>reading score</td>\n",
       "      <td>0.934532</td>\n",
       "    </tr>\n",
       "  </tbody>\n",
       "</table>\n",
       "</div>"
      ],
      "text/plain": [
       "   used_features estimatedCoefficients\n",
       "0     math score             0.0692903\n",
       "1  reading score              0.934532"
      ]
     },
     "execution_count": 56,
     "metadata": {},
     "output_type": "execute_result"
    }
   ],
   "source": [
    "pd.DataFrame(np.array((x_train.columns, reg_ls.coef_)).T, columns=['used_features', 'estimatedCoefficients'])"
   ]
  },
  {
   "cell_type": "code",
   "execution_count": 57,
   "metadata": {},
   "outputs": [
    {
     "data": {
      "text/plain": [
       "993    74\n",
       "859    72\n",
       "298    50\n",
       "553    64\n",
       "672    76\n",
       "Name: writing score, dtype: int64"
      ]
     },
     "execution_count": 57,
     "metadata": {},
     "output_type": "execute_result"
    }
   ],
   "source": [
    "#prediction\n",
    "reg_ls.predict(x_test)[0:5]\n",
    "#true value \n",
    "y_test[0:5]"
   ]
  },
  {
   "cell_type": "code",
   "execution_count": 58,
   "metadata": {},
   "outputs": [
    {
     "data": {
      "text/plain": [
       "[<matplotlib.lines.Line2D at 0x18459115790>]"
      ]
     },
     "execution_count": 58,
     "metadata": {},
     "output_type": "execute_result"
    },
    {
     "data": {
      "image/png": "[encoded data removed]",
      "text/plain": [
       "<Figure size 432x288 with 1 Axes>"
      ]
     },
     "metadata": {
      "needs_background": "light"
     },
     "output_type": "display_data"
    }
   ],
   "source": [
    "#prediction and plot regression\n",
    "y_pred = reg_ls.predict(x_test)\n",
    "\n",
    "# plot prediction and actual data\n",
    "plt.scatter(y_test, y_pred)\n",
    "plt.xlabel('Actual Score')\n",
    "plt.ylabel('Predicted Score')\n",
    "plt.title('Actual vs Predicted Score')\n",
    "\n",
    "# plot a line, a perfect prediction would all fall on this line\n",
    "x = np.linspace(0, 100, 200)\n",
    "y = x\n",
    "plt.plot(x, y, 'r')"
   ]
  },
  {
   "cell_type": "code",
   "execution_count": 59,
   "metadata": {},
   "outputs": [
    {
     "name": "stdout",
     "output_type": "stream",
     "text": [
      "3.2731559518054754\n",
      "16.44874775877235\n",
      "0.9225636597777943\n"
     ]
    }
   ],
   "source": [
    "# check error prediction\n",
    "from sklearn.metrics import mean_absolute_error, mean_squared_error, r2_score\n",
    "print(mean_absolute_error(y_test, y_pred))\n",
    "print(mean_squared_error(y_test, y_pred))\n",
    "print(r2_score(y_test, y_pred))"
   ]
  },
  {
   "cell_type": "markdown",
   "metadata": {},
   "source": [
    "Prediction Writing Score from Math Score and Reading Score shows 92.2% for R-squared"
   ]
  },
  {
   "cell_type": "code",
   "execution_count": 60,
   "metadata": {},
   "outputs": [
    {
     "data": {
      "text/html": [
       "<div>\n",
       "<style scoped>\n",
       "    .dataframe tbody tr th:only-of-type {\n",
       "        vertical-align: middle;\n",
       "    }\n",
       "\n",
       "    .dataframe tbody tr th {\n",
       "        vertical-align: top;\n",
       "    }\n",
       "\n",
       "    .dataframe thead th {\n",
       "        text-align: right;\n",
       "    }\n",
       "</style>\n",
       "<table border=\"1\" class=\"dataframe\">\n",
       "  <thead>\n",
       "    <tr style=\"text-align: right;\">\n",
       "      <th></th>\n",
       "      <th>math score</th>\n",
       "      <th>reading score</th>\n",
       "      <th>writing score</th>\n",
       "      <th>gender_cleaned</th>\n",
       "      <th>race/ethnicity_cleaned</th>\n",
       "      <th>parental_education_cleaned</th>\n",
       "      <th>lunch_cleaned</th>\n",
       "      <th>test_preparation_cleaned</th>\n",
       "      <th>total_score</th>\n",
       "    </tr>\n",
       "  </thead>\n",
       "  <tbody>\n",
       "    <tr>\n",
       "      <th>0</th>\n",
       "      <td>72</td>\n",
       "      <td>72</td>\n",
       "      <td>74</td>\n",
       "      <td>1</td>\n",
       "      <td>1</td>\n",
       "      <td>3</td>\n",
       "      <td>0</td>\n",
       "      <td>0</td>\n",
       "      <td>218</td>\n",
       "    </tr>\n",
       "    <tr>\n",
       "      <th>1</th>\n",
       "      <td>69</td>\n",
       "      <td>90</td>\n",
       "      <td>88</td>\n",
       "      <td>1</td>\n",
       "      <td>2</td>\n",
       "      <td>2</td>\n",
       "      <td>0</td>\n",
       "      <td>1</td>\n",
       "      <td>247</td>\n",
       "    </tr>\n",
       "    <tr>\n",
       "      <th>2</th>\n",
       "      <td>90</td>\n",
       "      <td>95</td>\n",
       "      <td>93</td>\n",
       "      <td>1</td>\n",
       "      <td>1</td>\n",
       "      <td>5</td>\n",
       "      <td>0</td>\n",
       "      <td>0</td>\n",
       "      <td>278</td>\n",
       "    </tr>\n",
       "    <tr>\n",
       "      <th>3</th>\n",
       "      <td>47</td>\n",
       "      <td>57</td>\n",
       "      <td>44</td>\n",
       "      <td>0</td>\n",
       "      <td>0</td>\n",
       "      <td>4</td>\n",
       "      <td>1</td>\n",
       "      <td>0</td>\n",
       "      <td>148</td>\n",
       "    </tr>\n",
       "    <tr>\n",
       "      <th>4</th>\n",
       "      <td>76</td>\n",
       "      <td>78</td>\n",
       "      <td>75</td>\n",
       "      <td>0</td>\n",
       "      <td>2</td>\n",
       "      <td>2</td>\n",
       "      <td>0</td>\n",
       "      <td>0</td>\n",
       "      <td>229</td>\n",
       "    </tr>\n",
       "  </tbody>\n",
       "</table>\n",
       "</div>"
      ],
      "text/plain": [
       "   math score  reading score  writing score  gender_cleaned  \\\n",
       "0          72             72             74               1   \n",
       "1          69             90             88               1   \n",
       "2          90             95             93               1   \n",
       "3          47             57             44               0   \n",
       "4          76             78             75               0   \n",
       "\n",
       "   race/ethnicity_cleaned  parental_education_cleaned  lunch_cleaned  \\\n",
       "0                       1                           3              0   \n",
       "1                       2                           2              0   \n",
       "2                       1                           5              0   \n",
       "3                       0                           4              1   \n",
       "4                       2                           2              0   \n",
       "\n",
       "   test_preparation_cleaned  total_score  \n",
       "0                         0          218  \n",
       "1                         1          247  \n",
       "2                         0          278  \n",
       "3                         0          148  \n",
       "4                         0          229  "
      ]
     },
     "execution_count": 60,
     "metadata": {},
     "output_type": "execute_result"
    }
   ],
   "source": [
    "#combine all 3 score into 1 single score\n",
    "total_score = data['writing score'] + data['reading score'] + data['math score']\n",
    "data['total_score'] = total_score\n",
    "data.head()"
   ]
  },
  {
   "cell_type": "code",
   "execution_count": 61,
   "metadata": {},
   "outputs": [
    {
     "data": {
      "text/html": [
       "<div>\n",
       "<style scoped>\n",
       "    .dataframe tbody tr th:only-of-type {\n",
       "        vertical-align: middle;\n",
       "    }\n",
       "\n",
       "    .dataframe tbody tr th {\n",
       "        vertical-align: top;\n",
       "    }\n",
       "\n",
       "    .dataframe thead th {\n",
       "        text-align: right;\n",
       "    }\n",
       "</style>\n",
       "<table border=\"1\" class=\"dataframe\">\n",
       "  <thead>\n",
       "    <tr style=\"text-align: right;\">\n",
       "      <th></th>\n",
       "      <th>math score</th>\n",
       "      <th>reading score</th>\n",
       "      <th>writing score</th>\n",
       "      <th>gender_cleaned</th>\n",
       "      <th>race/ethnicity_cleaned</th>\n",
       "      <th>parental_education_cleaned</th>\n",
       "      <th>lunch_cleaned</th>\n",
       "      <th>test_preparation_cleaned</th>\n",
       "      <th>avg_total_score</th>\n",
       "    </tr>\n",
       "  </thead>\n",
       "  <tbody>\n",
       "    <tr>\n",
       "      <th>0</th>\n",
       "      <td>72</td>\n",
       "      <td>72</td>\n",
       "      <td>74</td>\n",
       "      <td>1</td>\n",
       "      <td>1</td>\n",
       "      <td>3</td>\n",
       "      <td>0</td>\n",
       "      <td>0</td>\n",
       "      <td>72.666667</td>\n",
       "    </tr>\n",
       "    <tr>\n",
       "      <th>1</th>\n",
       "      <td>69</td>\n",
       "      <td>90</td>\n",
       "      <td>88</td>\n",
       "      <td>1</td>\n",
       "      <td>2</td>\n",
       "      <td>2</td>\n",
       "      <td>0</td>\n",
       "      <td>1</td>\n",
       "      <td>82.333333</td>\n",
       "    </tr>\n",
       "    <tr>\n",
       "      <th>2</th>\n",
       "      <td>90</td>\n",
       "      <td>95</td>\n",
       "      <td>93</td>\n",
       "      <td>1</td>\n",
       "      <td>1</td>\n",
       "      <td>5</td>\n",
       "      <td>0</td>\n",
       "      <td>0</td>\n",
       "      <td>92.666667</td>\n",
       "    </tr>\n",
       "    <tr>\n",
       "      <th>3</th>\n",
       "      <td>47</td>\n",
       "      <td>57</td>\n",
       "      <td>44</td>\n",
       "      <td>0</td>\n",
       "      <td>0</td>\n",
       "      <td>4</td>\n",
       "      <td>1</td>\n",
       "      <td>0</td>\n",
       "      <td>49.333333</td>\n",
       "    </tr>\n",
       "    <tr>\n",
       "      <th>4</th>\n",
       "      <td>76</td>\n",
       "      <td>78</td>\n",
       "      <td>75</td>\n",
       "      <td>0</td>\n",
       "      <td>2</td>\n",
       "      <td>2</td>\n",
       "      <td>0</td>\n",
       "      <td>0</td>\n",
       "      <td>76.333333</td>\n",
       "    </tr>\n",
       "  </tbody>\n",
       "</table>\n",
       "</div>"
      ],
      "text/plain": [
       "   math score  reading score  writing score  gender_cleaned  \\\n",
       "0          72             72             74               1   \n",
       "1          69             90             88               1   \n",
       "2          90             95             93               1   \n",
       "3          47             57             44               0   \n",
       "4          76             78             75               0   \n",
       "\n",
       "   race/ethnicity_cleaned  parental_education_cleaned  lunch_cleaned  \\\n",
       "0                       1                           3              0   \n",
       "1                       2                           2              0   \n",
       "2                       1                           5              0   \n",
       "3                       0                           4              1   \n",
       "4                       2                           2              0   \n",
       "\n",
       "   test_preparation_cleaned  avg_total_score  \n",
       "0                         0        72.666667  \n",
       "1                         1        82.333333  \n",
       "2                         0        92.666667  \n",
       "3                         0        49.333333  \n",
       "4                         0        76.333333  "
      ]
     },
     "execution_count": 61,
     "metadata": {},
     "output_type": "execute_result"
    }
   ],
   "source": [
    "#get the average of total score\n",
    "avg_total_score = data['total_score'] / 3\n",
    "data['avg_total_score'] = avg_total_score\n",
    "\n",
    "#drop column total score\n",
    "data = data.drop(columns=['total_score'])\n",
    "data.head()"
   ]
  },
  {
   "cell_type": "code",
   "execution_count": 62,
   "metadata": {
    "scrolled": true
   },
   "outputs": [
    {
     "name": "stdout",
     "output_type": "stream",
     "text": [
      "     math score  reading score  writing score  gender_cleaned  \\\n",
      "0            72             72             74               1   \n",
      "1            69             90             88               1   \n",
      "2            90             95             93               1   \n",
      "3            47             57             44               0   \n",
      "4            76             78             75               0   \n",
      "..          ...            ...            ...             ...   \n",
      "995          88             99             95               1   \n",
      "996          62             55             55               0   \n",
      "997          59             71             65               1   \n",
      "998          68             78             77               1   \n",
      "999          77             86             86               1   \n",
      "\n",
      "     race/ethnicity_cleaned  parental_education_cleaned  lunch_cleaned  \\\n",
      "0                         1                           3              0   \n",
      "1                         2                           2              0   \n",
      "2                         1                           5              0   \n",
      "3                         0                           4              1   \n",
      "4                         2                           2              0   \n",
      "..                      ...                         ...            ...   \n",
      "995                       4                           5              0   \n",
      "996                       2                           0              1   \n",
      "997                       2                           0              1   \n",
      "998                       3                           2              0   \n",
      "999                       3                           2              1   \n",
      "\n",
      "     test_preparation_cleaned  \n",
      "0                           0  \n",
      "1                           1  \n",
      "2                           0  \n",
      "3                           0  \n",
      "4                           0  \n",
      "..                        ...  \n",
      "995                         1  \n",
      "996                         0  \n",
      "997                         1  \n",
      "998                         1  \n",
      "999                         0  \n",
      "\n",
      "[1000 rows x 8 columns]\n",
      "[118 147 178  48 129 132 175  24  95  48  64  35 119 120  61 122 163   4\n",
      "  34  73  98 110  51 115 125 119  78 111 105 107 117  89  93  23 166 141\n",
      " 138  73 153  70  70  99  76  90  60  76  82 113 107 148  56 114  39 141\n",
      " 142  20 153  56  75   0 125  15  78 120  76  92  22 106  75  60  94  81\n",
      "  40  74  39  25   4 139 107  98  46  39  51  99  18 135 147 116  95 141\n",
      " 111  12 121  38 157 141  93 105  87  94 113 116 165  51 174  97 183  93\n",
      "  98 106 164  66  54  63 192 135 142 139  75  89 160 172 174  76 136 168\n",
      " 107 116 138  51 155  30 131 140 128  61  46  81  92 101 119  85  51  47\n",
      " 139  10 147 107 124 189  98 112  95  50  90 147 118  80 134  92 134 148\n",
      "  54  54 164 190  55 112 129 112 119 160 146 100  48 159  58 125  84 191\n",
      " 105  76  47 104  46  97 121  96  45 152 100 138  92 101 138  68  93  62\n",
      "  53 133 137 123 115  94  42 123 106 137 131  85 138   7  64  67 159 142\n",
      " 157  18 113  73  98 145  82 141  91  55 115  61 104 177 106  31 136 157\n",
      " 149 132  96  98  57 144 107 146  63  53 118 132 139  96  91  81  45 137\n",
      " 100 132  58 105 105 132 123 127 120 136  45 182 117  42 119 118 175 117\n",
      "  93  49  58 106 149 134 170  97 131  86  47  39 136 126  29 145 167 138\n",
      " 139 130 114 129  80 113 135  89  30 113  36 152 140  62 132 120 132 105\n",
      " 167  47  91  58 129  83  96 104  98 102 150 133 103  84 130 140 132  49\n",
      "  30 166  84   3 134  47  92  22  71 149 171  95 115  43   6  50  71  97\n",
      " 119 106 119 127  80 166 115 137  86  75 121  61 100 103  85  77  82 159\n",
      "  79 147  68   9  77  67  80  88  66 142 132  88 120 175 102  30 152 180\n",
      " 131  92 149 182 131  32  26 118 107 102  90 118  99 122 110  67 116  34\n",
      "  80 169  94  73  80  39  69 183  75 104  93 139  65 156 115 145  97  97\n",
      " 102 126 113 114  89  67 168  79  72 124  17  91 155 105  77  85  89 103\n",
      "  72  56 105  51 107 114  77 159 127 139 101 132 134 118  95 147  35 126\n",
      " 134 185 116  72  76  40 157  55 193 105  66  53 117 158  95 162  11 104\n",
      " 150 141 158 106 138  87 171 130 104 120  89 114 112  67  97  57  55 115\n",
      "  64 109  74 143 126  98 156 159  86  98  54 113 103 119 135 173  78 176\n",
      "  53 144 104  68 134 165 120  57  63  77 168 148 147 113 122 124  72 161\n",
      "  84  63  54  87  77  32  20 106 108  54  81 161 110 132  69  79 122 175\n",
      " 112 141 137 166  93 141 185 103  93 120 120 165  38 103  38  14 106  94\n",
      "  93 101 128 111 178 123  45  36 188 110  58 103 116 179  71  80 126  48\n",
      "  64 161  62  82 174 136 114 128 123 117 101  69  83  79  69  83 100 123\n",
      " 187 107   2  55 119 128  77   5 134  68 163 109 151  52  87  86  92  83\n",
      " 175 116 168 100  23 149 160 106  50  81  61 182  81 190 102  55  52  50\n",
      " 101 104 121 148 148 109 128 160 136 123  44 152 132 133  95 127  94  94\n",
      "  58 129  60 124 169 109 131  96 108  96  61 162 124 102  95 101 106  70\n",
      " 107 149 108 130 110  59 123 133 124  80 127 128 134  84 113  88  71  16\n",
      "  96 189 128 128  55 166  55 127 121 127  68 154 147 101 114  91 142  96\n",
      " 158  94  86  99  19  77 155  61 167 150 191 146 104 157 123 187 126 144\n",
      " 104  73 152  40  31 126 117  76 149  29 125  44 170  46  68  83 155  92\n",
      " 125  76 125  50 147 104  57 125 115 101  69 157 108 105 131 152  66 171\n",
      "  65 110  76 123  89  60 145  87  82 118 110  98 114  75  49 122  91 119\n",
      "  91  62 108  24 133 161  59 151 143  73 151  28 128   6  94  78  70  96\n",
      " 109 150  45  98 110 135  83  64 108 129 176 154 127 130 113  27 134  64\n",
      "  21  41  85 147 135 167  68 107 100 156 167 161  52 140  58  87  94 110\n",
      " 136  75  78 149  82 148  53  98  94 136  68 116  37  73  13 127  69 159\n",
      " 161  68  99 124 105  92 165 110  81 186 108 125  47 132  68 154  22 122\n",
      " 181 152  64  44 124  51  64 118 144 162  66 110 147  72 111 114  93 111\n",
      " 108  45  56 118 184  85 108  43 162 162  90 137  90  14   8 120  84 125\n",
      " 158 125  25 189 135 142  56 154 114 104  40 135  79  75  62 104 193  57\n",
      " 114 178 106  34 104  84 113  98  72  97  33  55 111  81 105 119 175  91\n",
      "  77  72 151 114 110 165 111  84  87  73 144  67  51 105 138 135 120  64\n",
      " 100  91 152 188  67 127  78  55 193 116  87 104  98  86 111 139 185 119\n",
      "  63  75  84 123  82  85  44 180   1 137 150 156 131  62  50 132  34 136\n",
      " 142 125 107 108  88 182  72  95 123 149]\n"
     ]
    }
   ],
   "source": [
    "# import label encoder library to deal with categorical data\n",
    "from sklearn.preprocessing import LabelEncoder\n",
    "\n",
    "# select all columns except the last one (the target label)\n",
    "x=data.iloc[:,:-1]\n",
    "\n",
    "# set target categorical data label (the last attribute)\n",
    "y=data.iloc[:,-1]\n",
    "\n",
    "labelencoder = LabelEncoder()\n",
    "y = labelencoder.fit_transform(y)\n",
    "print (x)\n",
    "print (y)"
   ]
  },
  {
   "cell_type": "code",
   "execution_count": 63,
   "metadata": {},
   "outputs": [
    {
     "data": {
      "text/plain": [
       "(1000, 8)"
      ]
     },
     "metadata": {},
     "output_type": "display_data"
    }
   ],
   "source": [
    "#select specific/related features\n",
    "used_features=[ \n",
    "    \"math score\",\n",
    "    \"reading score\",\n",
    "    \"writing score\",\n",
    "    \"gender_cleaned\",\n",
    "    \"race/ethnicity_cleaned\",\n",
    "    \"parental_education_cleaned\",\n",
    "    \"lunch_cleaned\",\n",
    "    \"test_preparation_cleaned\"\n",
    "]\n",
    "\n",
    "x = data[used_features] # select all attributes\n",
    "y = data[\"avg_total_score\"] #class target\n",
    "\n",
    "display(x.shape)"
   ]
  },
  {
   "cell_type": "markdown",
   "metadata": {},
   "source": [
    "Splitting the data into 70% training data and 30% test data"
   ]
  },
  {
   "cell_type": "code",
   "execution_count": 64,
   "metadata": {},
   "outputs": [],
   "source": [
    "x = data [used_features]\n",
    "y = data[\"avg_total_score\"]\n",
    "\n",
    "#import machine learning library to sample the data\n",
    "from sklearn.model_selection import train_test_split\n",
    "\n",
    "# split the data into training data and test data\n",
    "x_train,x_test,y_train,y_test = train_test_split(x, y, test_size=0.3, random_state=0)"
   ]
  },
  {
   "cell_type": "markdown",
   "metadata": {},
   "source": [
    "Regression with average score"
   ]
  },
  {
   "cell_type": "code",
   "execution_count": 65,
   "metadata": {},
   "outputs": [
    {
     "name": "stdout",
     "output_type": "stream",
     "text": [
      "Estimated intercept coefficients:  -1.4210854715202004e-14\n",
      "Number of coefficients:  8\n",
      "Coefficients:  [ 3.33333333e-01  3.33333333e-01  3.33333333e-01  5.43835810e-16\n",
      " -1.99493200e-16 -1.55257751e-16 -2.73218947e-16  2.77122075e-16]\n"
     ]
    }
   ],
   "source": [
    "#least square for linear regression\n",
    "from sklearn.linear_model import LinearRegression\n",
    "reg_ls = LinearRegression()\n",
    "\n",
    "#fit method to train data\n",
    "reg_ls.fit(x_train, y_train)\n",
    "reg_ls.score(x_train, y_train)\n",
    "\n",
    "#print intercept, coefficient\n",
    "print('Estimated intercept coefficients: ', reg_ls.intercept_)\n",
    "print('Number of coefficients: ', len(reg_ls.coef_))\n",
    "print('Coefficients: ', reg_ls.coef_)"
   ]
  },
  {
   "cell_type": "code",
   "execution_count": 66,
   "metadata": {},
   "outputs": [
    {
     "data": {
      "text/html": [
       "<div>\n",
       "<style scoped>\n",
       "    .dataframe tbody tr th:only-of-type {\n",
       "        vertical-align: middle;\n",
       "    }\n",
       "\n",
       "    .dataframe tbody tr th {\n",
       "        vertical-align: top;\n",
       "    }\n",
       "\n",
       "    .dataframe thead th {\n",
       "        text-align: right;\n",
       "    }\n",
       "</style>\n",
       "<table border=\"1\" class=\"dataframe\">\n",
       "  <thead>\n",
       "    <tr style=\"text-align: right;\">\n",
       "      <th></th>\n",
       "      <th>used_features</th>\n",
       "      <th>estimatedCoefficients</th>\n",
       "    </tr>\n",
       "  </thead>\n",
       "  <tbody>\n",
       "    <tr>\n",
       "      <th>0</th>\n",
       "      <td>math score</td>\n",
       "      <td>0.333333</td>\n",
       "    </tr>\n",
       "    <tr>\n",
       "      <th>1</th>\n",
       "      <td>reading score</td>\n",
       "      <td>0.333333</td>\n",
       "    </tr>\n",
       "    <tr>\n",
       "      <th>2</th>\n",
       "      <td>writing score</td>\n",
       "      <td>0.333333</td>\n",
       "    </tr>\n",
       "    <tr>\n",
       "      <th>3</th>\n",
       "      <td>gender_cleaned</td>\n",
       "      <td>5.43836e-16</td>\n",
       "    </tr>\n",
       "    <tr>\n",
       "      <th>4</th>\n",
       "      <td>race/ethnicity_cleaned</td>\n",
       "      <td>-1.99493e-16</td>\n",
       "    </tr>\n",
       "    <tr>\n",
       "      <th>5</th>\n",
       "      <td>parental_education_cleaned</td>\n",
       "      <td>-1.55258e-16</td>\n",
       "    </tr>\n",
       "    <tr>\n",
       "      <th>6</th>\n",
       "      <td>lunch_cleaned</td>\n",
       "      <td>-2.73219e-16</td>\n",
       "    </tr>\n",
       "    <tr>\n",
       "      <th>7</th>\n",
       "      <td>test_preparation_cleaned</td>\n",
       "      <td>2.77122e-16</td>\n",
       "    </tr>\n",
       "  </tbody>\n",
       "</table>\n",
       "</div>"
      ],
      "text/plain": [
       "                used_features estimatedCoefficients\n",
       "0                  math score              0.333333\n",
       "1               reading score              0.333333\n",
       "2               writing score              0.333333\n",
       "3              gender_cleaned           5.43836e-16\n",
       "4      race/ethnicity_cleaned          -1.99493e-16\n",
       "5  parental_education_cleaned          -1.55258e-16\n",
       "6               lunch_cleaned          -2.73219e-16\n",
       "7    test_preparation_cleaned           2.77122e-16"
      ]
     },
     "execution_count": 66,
     "metadata": {},
     "output_type": "execute_result"
    }
   ],
   "source": [
    "pd.DataFrame(np.array((x_train.columns, reg_ls.coef_)).T, columns=['used_features', 'estimatedCoefficients'])"
   ]
  },
  {
   "cell_type": "code",
   "execution_count": 67,
   "metadata": {},
   "outputs": [
    {
     "data": {
      "text/plain": [
       "array([69.33333333, 77.33333333, 45.33333333, 67.66666667, 74.33333333])"
      ]
     },
     "execution_count": 67,
     "metadata": {},
     "output_type": "execute_result"
    }
   ],
   "source": [
    "#prediction\n",
    "reg_ls.predict(x_test)[0:5]"
   ]
  },
  {
   "cell_type": "code",
   "execution_count": 68,
   "metadata": {},
   "outputs": [
    {
     "data": {
      "text/plain": [
       "993    69.333333\n",
       "859    77.333333\n",
       "298    45.333333\n",
       "553    67.666667\n",
       "672    74.333333\n",
       "Name: avg_total_score, dtype: float64"
      ]
     },
     "execution_count": 68,
     "metadata": {},
     "output_type": "execute_result"
    }
   ],
   "source": [
    "#true value \n",
    "y_test[0:5]"
   ]
  },
  {
   "cell_type": "code",
   "execution_count": 69,
   "metadata": {},
   "outputs": [
    {
     "data": {
      "text/plain": [
       "[<matplotlib.lines.Line2D at 0x1845a2c1d00>]"
      ]
     },
     "execution_count": 69,
     "metadata": {},
     "output_type": "execute_result"
    },
    {
     "data": {
      "image/png": "[encoded data removed]",
      "text/plain": [
       "<Figure size 432x288 with 1 Axes>"
      ]
     },
     "metadata": {
      "needs_background": "light"
     },
     "output_type": "display_data"
    }
   ],
   "source": [
    "#prediction and plot regression\n",
    "y_pred = reg_ls.predict(x_test)\n",
    "\n",
    "# plot prediction and actual data\n",
    "plt.scatter(y_test, y_pred)\n",
    "plt.xlabel('Actual Average')\n",
    "plt.ylabel('Predicted Average')\n",
    "plt.title('Actual vs Predicted Average')\n",
    "\n",
    "# plot a line, a perfect prediction would all fall on this line\n",
    "x = np.linspace(0, 100, 200)\n",
    "y = x\n",
    "plt.plot(x, y, 'r')"
   ]
  },
  {
   "cell_type": "code",
   "execution_count": 70,
   "metadata": {},
   "outputs": [
    {
     "name": "stdout",
     "output_type": "stream",
     "text": [
      "1.0255500152804113e-14\n",
      "1.4346750329619469e-28\n",
      "1.0\n"
     ]
    }
   ],
   "source": [
    "# check error prediction\n",
    "from sklearn.metrics import mean_absolute_error, mean_squared_error, r2_score\n",
    "print(mean_absolute_error(y_test, y_pred))\n",
    "print(mean_squared_error(y_test, y_pred))\n",
    "print(r2_score(y_test, y_pred))"
   ]
  },
  {
   "cell_type": "markdown",
   "metadata": {},
   "source": [
    "Seems to be overfitting with average"
   ]
  },
  {
   "cell_type": "code",
   "execution_count": null,
   "metadata": {},
   "outputs": [],
   "source": []
  }
 ],
 "metadata": {
  "kernelspec": {
   "display_name": "Python 3",
   "language": "python",
   "name": "python3"
  },
  "language_info": {
   "codemirror_mode": {
    "name": "ipython",
    "version": 3
   },
   "file_extension": ".py",
   "mimetype": "text/x-python",
   "name": "python",
   "nbconvert_exporter": "python",
   "pygments_lexer": "ipython3",
   "version": "3.8.5"
  }
 },
 "nbformat": 4,
 "nbformat_minor": 4
}
