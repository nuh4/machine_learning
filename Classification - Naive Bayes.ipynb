{
 "cells": [
  {
   "cell_type": "markdown",
   "metadata": {},
   "source": [
    "# Naive Bayes Modelling"
   ]
  },
  {
   "cell_type": "code",
   "execution_count": 1,
   "metadata": {},
   "outputs": [],
   "source": [
    "import pandas as pd\n",
    "import numpy as np\n",
    "import matplotlib.pyplot as plt\n",
    "import seaborn as sns\n",
    "import time\n",
    "from sklearn.model_selection import train_test_split\n",
    "from sklearn.metrics import accuracy_score, confusion_matrix, precision_recall_fscore_support\n",
    "%matplotlib inline"
   ]
  },
  {
   "cell_type": "code",
   "execution_count": 2,
   "metadata": {},
   "outputs": [
    {
     "data": {
      "text/html": [
       "<div>\n",
       "<style scoped>\n",
       "    .dataframe tbody tr th:only-of-type {\n",
       "        vertical-align: middle;\n",
       "    }\n",
       "\n",
       "    .dataframe tbody tr th {\n",
       "        vertical-align: top;\n",
       "    }\n",
       "\n",
       "    .dataframe thead th {\n",
       "        text-align: right;\n",
       "    }\n",
       "</style>\n",
       "<table border=\"1\" class=\"dataframe\">\n",
       "  <thead>\n",
       "    <tr style=\"text-align: right;\">\n",
       "      <th></th>\n",
       "      <th>gender</th>\n",
       "      <th>race/ethnicity</th>\n",
       "      <th>parental level of education</th>\n",
       "      <th>lunch</th>\n",
       "      <th>test preparation course</th>\n",
       "      <th>math score</th>\n",
       "      <th>reading score</th>\n",
       "      <th>writing score</th>\n",
       "    </tr>\n",
       "  </thead>\n",
       "  <tbody>\n",
       "    <tr>\n",
       "      <th>0</th>\n",
       "      <td>female</td>\n",
       "      <td>group B</td>\n",
       "      <td>bachelor's degree</td>\n",
       "      <td>standard</td>\n",
       "      <td>none</td>\n",
       "      <td>72</td>\n",
       "      <td>72</td>\n",
       "      <td>74</td>\n",
       "    </tr>\n",
       "    <tr>\n",
       "      <th>1</th>\n",
       "      <td>female</td>\n",
       "      <td>group C</td>\n",
       "      <td>some college</td>\n",
       "      <td>standard</td>\n",
       "      <td>completed</td>\n",
       "      <td>69</td>\n",
       "      <td>90</td>\n",
       "      <td>88</td>\n",
       "    </tr>\n",
       "    <tr>\n",
       "      <th>2</th>\n",
       "      <td>female</td>\n",
       "      <td>group B</td>\n",
       "      <td>master's degree</td>\n",
       "      <td>standard</td>\n",
       "      <td>none</td>\n",
       "      <td>90</td>\n",
       "      <td>95</td>\n",
       "      <td>93</td>\n",
       "    </tr>\n",
       "    <tr>\n",
       "      <th>3</th>\n",
       "      <td>male</td>\n",
       "      <td>group A</td>\n",
       "      <td>associate's degree</td>\n",
       "      <td>free/reduced</td>\n",
       "      <td>none</td>\n",
       "      <td>47</td>\n",
       "      <td>57</td>\n",
       "      <td>44</td>\n",
       "    </tr>\n",
       "    <tr>\n",
       "      <th>4</th>\n",
       "      <td>male</td>\n",
       "      <td>group C</td>\n",
       "      <td>some college</td>\n",
       "      <td>standard</td>\n",
       "      <td>none</td>\n",
       "      <td>76</td>\n",
       "      <td>78</td>\n",
       "      <td>75</td>\n",
       "    </tr>\n",
       "  </tbody>\n",
       "</table>\n",
       "</div>"
      ],
      "text/plain": [
       "   gender race/ethnicity parental level of education         lunch  \\\n",
       "0  female        group B           bachelor's degree      standard   \n",
       "1  female        group C                some college      standard   \n",
       "2  female        group B             master's degree      standard   \n",
       "3    male        group A          associate's degree  free/reduced   \n",
       "4    male        group C                some college      standard   \n",
       "\n",
       "  test preparation course  math score  reading score  writing score  \n",
       "0                    none          72             72             74  \n",
       "1               completed          69             90             88  \n",
       "2                    none          90             95             93  \n",
       "3                    none          47             57             44  \n",
       "4                    none          76             78             75  "
      ]
     },
     "metadata": {},
     "output_type": "display_data"
    },
    {
     "data": {
      "text/html": [
       "<div>\n",
       "<style scoped>\n",
       "    .dataframe tbody tr th:only-of-type {\n",
       "        vertical-align: middle;\n",
       "    }\n",
       "\n",
       "    .dataframe tbody tr th {\n",
       "        vertical-align: top;\n",
       "    }\n",
       "\n",
       "    .dataframe thead th {\n",
       "        text-align: right;\n",
       "    }\n",
       "</style>\n",
       "<table border=\"1\" class=\"dataframe\">\n",
       "  <thead>\n",
       "    <tr style=\"text-align: right;\">\n",
       "      <th></th>\n",
       "      <th>math score</th>\n",
       "      <th>reading score</th>\n",
       "      <th>writing score</th>\n",
       "    </tr>\n",
       "  </thead>\n",
       "  <tbody>\n",
       "    <tr>\n",
       "      <th>count</th>\n",
       "      <td>1000.00000</td>\n",
       "      <td>1000.000000</td>\n",
       "      <td>1000.000000</td>\n",
       "    </tr>\n",
       "    <tr>\n",
       "      <th>mean</th>\n",
       "      <td>66.08900</td>\n",
       "      <td>69.169000</td>\n",
       "      <td>68.054000</td>\n",
       "    </tr>\n",
       "    <tr>\n",
       "      <th>std</th>\n",
       "      <td>15.16308</td>\n",
       "      <td>14.600192</td>\n",
       "      <td>15.195657</td>\n",
       "    </tr>\n",
       "    <tr>\n",
       "      <th>min</th>\n",
       "      <td>0.00000</td>\n",
       "      <td>17.000000</td>\n",
       "      <td>10.000000</td>\n",
       "    </tr>\n",
       "    <tr>\n",
       "      <th>25%</th>\n",
       "      <td>57.00000</td>\n",
       "      <td>59.000000</td>\n",
       "      <td>57.750000</td>\n",
       "    </tr>\n",
       "    <tr>\n",
       "      <th>50%</th>\n",
       "      <td>66.00000</td>\n",
       "      <td>70.000000</td>\n",
       "      <td>69.000000</td>\n",
       "    </tr>\n",
       "    <tr>\n",
       "      <th>75%</th>\n",
       "      <td>77.00000</td>\n",
       "      <td>79.000000</td>\n",
       "      <td>79.000000</td>\n",
       "    </tr>\n",
       "    <tr>\n",
       "      <th>max</th>\n",
       "      <td>100.00000</td>\n",
       "      <td>100.000000</td>\n",
       "      <td>100.000000</td>\n",
       "    </tr>\n",
       "  </tbody>\n",
       "</table>\n",
       "</div>"
      ],
      "text/plain": [
       "       math score  reading score  writing score\n",
       "count  1000.00000    1000.000000    1000.000000\n",
       "mean     66.08900      69.169000      68.054000\n",
       "std      15.16308      14.600192      15.195657\n",
       "min       0.00000      17.000000      10.000000\n",
       "25%      57.00000      59.000000      57.750000\n",
       "50%      66.00000      70.000000      69.000000\n",
       "75%      77.00000      79.000000      79.000000\n",
       "max     100.00000     100.000000     100.000000"
      ]
     },
     "metadata": {},
     "output_type": "display_data"
    },
    {
     "data": {
      "text/plain": [
       "(1000, 8)"
      ]
     },
     "metadata": {},
     "output_type": "display_data"
    }
   ],
   "source": [
    "# import library to display multiple outputs\n",
    "from IPython.display import display\n",
    "\n",
    "# Importing dataset\n",
    "data = pd.read_csv('D:/Master/CDS503 Machine Learning/Project/Dataset/StudentsPerformance.csv')\n",
    "\n",
    "# see some of it, their overall statistics and dimensions\n",
    "display(data.head(5))\n",
    "display(data.describe())\n",
    "display(data.shape)"
   ]
  },
  {
   "cell_type": "markdown",
   "metadata": {},
   "source": [
    "1. Transforming all categorical data into numerical data"
   ]
  },
  {
   "cell_type": "code",
   "execution_count": 3,
   "metadata": {},
   "outputs": [],
   "source": [
    "# convert categorical variable to numeric\n",
    "data[\"gender_cleaned\"] = np.where(data[\"gender\"]==\"male\", 0, 1)\n",
    "data[\"race/ethnicity_cleaned\"] = np.where(data[\"race/ethnicity\"]==\"group A\", 0,\n",
    "                                         np.where(data[\"race/ethnicity\"]==\"group B\", 1,\n",
    "                                                np.where(data[\"race/ethnicity\"]==\"group C\", 2,\n",
    "                                                        np.where(data[\"race/ethnicity\"]==\"group D\", 3, 4))))\n",
    "data[\"parental_education_cleaned\"] = np.where(data[\"parental level of education\"]==\"high school\", 0,\n",
    "                                         np.where(data[\"parental level of education\"]==\"some high school\", 1,\n",
    "                                                np.where(data[\"parental level of education\"]==\"some college\", 2,\n",
    "                                                         np.where(data[\"parental level of education\"]==\"bachelor's degree\", 3,\n",
    "                                                                  np.where(data[\"parental level of education\"]==\"associate's degree\", 4, 5)))))\n",
    "data[\"lunch_cleaned\"] = np.where(data[\"lunch\"]==\"standard\", 0, 1)\n",
    "data[\"test_preparation_cleaned\"] = np.where(data[\"test preparation course\"]==\"none\", 0, 1)"
   ]
  },
  {
   "cell_type": "code",
   "execution_count": 4,
   "metadata": {},
   "outputs": [
    {
     "name": "stdout",
     "output_type": "stream",
     "text": [
      "1    518\n",
      "0    482\n",
      "Name: gender_cleaned, dtype: int64\n",
      "2    319\n",
      "3    262\n",
      "1    190\n",
      "4    140\n",
      "0     89\n",
      "Name: race/ethnicity_cleaned, dtype: int64\n",
      "2    226\n",
      "4    222\n",
      "0    196\n",
      "1    179\n",
      "3    118\n",
      "5     59\n",
      "Name: parental_education_cleaned, dtype: int64\n",
      "0    645\n",
      "1    355\n",
      "Name: lunch_cleaned, dtype: int64\n",
      "0    642\n",
      "1    358\n",
      "Name: test_preparation_cleaned, dtype: int64\n"
     ]
    }
   ],
   "source": [
    "print(data[\"gender_cleaned\"].value_counts())\n",
    "print(data[\"race/ethnicity_cleaned\"].value_counts())\n",
    "print(data[\"parental_education_cleaned\"].value_counts())\n",
    "print(data[\"lunch_cleaned\"].value_counts())\n",
    "print(data[\"test_preparation_cleaned\"].value_counts())"
   ]
  },
  {
   "cell_type": "code",
   "execution_count": 5,
   "metadata": {},
   "outputs": [
    {
     "data": {
      "text/html": [
       "<div>\n",
       "<style scoped>\n",
       "    .dataframe tbody tr th:only-of-type {\n",
       "        vertical-align: middle;\n",
       "    }\n",
       "\n",
       "    .dataframe tbody tr th {\n",
       "        vertical-align: top;\n",
       "    }\n",
       "\n",
       "    .dataframe thead th {\n",
       "        text-align: right;\n",
       "    }\n",
       "</style>\n",
       "<table border=\"1\" class=\"dataframe\">\n",
       "  <thead>\n",
       "    <tr style=\"text-align: right;\">\n",
       "      <th></th>\n",
       "      <th>gender</th>\n",
       "      <th>race/ethnicity</th>\n",
       "      <th>parental level of education</th>\n",
       "      <th>lunch</th>\n",
       "      <th>test preparation course</th>\n",
       "      <th>math score</th>\n",
       "      <th>reading score</th>\n",
       "      <th>writing score</th>\n",
       "      <th>gender_cleaned</th>\n",
       "      <th>race/ethnicity_cleaned</th>\n",
       "      <th>parental_education_cleaned</th>\n",
       "      <th>lunch_cleaned</th>\n",
       "      <th>test_preparation_cleaned</th>\n",
       "      <th>total_score</th>\n",
       "    </tr>\n",
       "  </thead>\n",
       "  <tbody>\n",
       "    <tr>\n",
       "      <th>0</th>\n",
       "      <td>female</td>\n",
       "      <td>group B</td>\n",
       "      <td>bachelor's degree</td>\n",
       "      <td>standard</td>\n",
       "      <td>none</td>\n",
       "      <td>72</td>\n",
       "      <td>72</td>\n",
       "      <td>74</td>\n",
       "      <td>1</td>\n",
       "      <td>1</td>\n",
       "      <td>3</td>\n",
       "      <td>0</td>\n",
       "      <td>0</td>\n",
       "      <td>218</td>\n",
       "    </tr>\n",
       "    <tr>\n",
       "      <th>1</th>\n",
       "      <td>female</td>\n",
       "      <td>group C</td>\n",
       "      <td>some college</td>\n",
       "      <td>standard</td>\n",
       "      <td>completed</td>\n",
       "      <td>69</td>\n",
       "      <td>90</td>\n",
       "      <td>88</td>\n",
       "      <td>1</td>\n",
       "      <td>2</td>\n",
       "      <td>2</td>\n",
       "      <td>0</td>\n",
       "      <td>1</td>\n",
       "      <td>247</td>\n",
       "    </tr>\n",
       "    <tr>\n",
       "      <th>2</th>\n",
       "      <td>female</td>\n",
       "      <td>group B</td>\n",
       "      <td>master's degree</td>\n",
       "      <td>standard</td>\n",
       "      <td>none</td>\n",
       "      <td>90</td>\n",
       "      <td>95</td>\n",
       "      <td>93</td>\n",
       "      <td>1</td>\n",
       "      <td>1</td>\n",
       "      <td>5</td>\n",
       "      <td>0</td>\n",
       "      <td>0</td>\n",
       "      <td>278</td>\n",
       "    </tr>\n",
       "    <tr>\n",
       "      <th>3</th>\n",
       "      <td>male</td>\n",
       "      <td>group A</td>\n",
       "      <td>associate's degree</td>\n",
       "      <td>free/reduced</td>\n",
       "      <td>none</td>\n",
       "      <td>47</td>\n",
       "      <td>57</td>\n",
       "      <td>44</td>\n",
       "      <td>0</td>\n",
       "      <td>0</td>\n",
       "      <td>4</td>\n",
       "      <td>1</td>\n",
       "      <td>0</td>\n",
       "      <td>148</td>\n",
       "    </tr>\n",
       "    <tr>\n",
       "      <th>4</th>\n",
       "      <td>male</td>\n",
       "      <td>group C</td>\n",
       "      <td>some college</td>\n",
       "      <td>standard</td>\n",
       "      <td>none</td>\n",
       "      <td>76</td>\n",
       "      <td>78</td>\n",
       "      <td>75</td>\n",
       "      <td>0</td>\n",
       "      <td>2</td>\n",
       "      <td>2</td>\n",
       "      <td>0</td>\n",
       "      <td>0</td>\n",
       "      <td>229</td>\n",
       "    </tr>\n",
       "  </tbody>\n",
       "</table>\n",
       "</div>"
      ],
      "text/plain": [
       "   gender race/ethnicity parental level of education         lunch  \\\n",
       "0  female        group B           bachelor's degree      standard   \n",
       "1  female        group C                some college      standard   \n",
       "2  female        group B             master's degree      standard   \n",
       "3    male        group A          associate's degree  free/reduced   \n",
       "4    male        group C                some college      standard   \n",
       "\n",
       "  test preparation course  math score  reading score  writing score  \\\n",
       "0                    none          72             72             74   \n",
       "1               completed          69             90             88   \n",
       "2                    none          90             95             93   \n",
       "3                    none          47             57             44   \n",
       "4                    none          76             78             75   \n",
       "\n",
       "   gender_cleaned  race/ethnicity_cleaned  parental_education_cleaned  \\\n",
       "0               1                       1                           3   \n",
       "1               1                       2                           2   \n",
       "2               1                       1                           5   \n",
       "3               0                       0                           4   \n",
       "4               0                       2                           2   \n",
       "\n",
       "   lunch_cleaned  test_preparation_cleaned  total_score  \n",
       "0              0                         0          218  \n",
       "1              0                         1          247  \n",
       "2              0                         0          278  \n",
       "3              1                         0          148  \n",
       "4              0                         0          229  "
      ]
     },
     "execution_count": 5,
     "metadata": {},
     "output_type": "execute_result"
    }
   ],
   "source": [
    "#combine all 3 score into 1 single score\n",
    "total_score = data['writing score'] + data['reading score'] + data['math score']\n",
    "data['total_score'] = total_score\n",
    "data.head()"
   ]
  },
  {
   "cell_type": "code",
   "execution_count": 6,
   "metadata": {
    "scrolled": true
   },
   "outputs": [
    {
     "name": "stdout",
     "output_type": "stream",
     "text": [
      "<class 'pandas.core.frame.DataFrame'>\n",
      "RangeIndex: 1000 entries, 0 to 999\n",
      "Data columns (total 9 columns):\n",
      " #   Column                      Non-Null Count  Dtype\n",
      "---  ------                      --------------  -----\n",
      " 0   math score                  1000 non-null   int64\n",
      " 1   reading score               1000 non-null   int64\n",
      " 2   writing score               1000 non-null   int64\n",
      " 3   gender_cleaned              1000 non-null   int32\n",
      " 4   race/ethnicity_cleaned      1000 non-null   int32\n",
      " 5   parental_education_cleaned  1000 non-null   int32\n",
      " 6   lunch_cleaned               1000 non-null   int32\n",
      " 7   test_preparation_cleaned    1000 non-null   int32\n",
      " 8   total_score                 1000 non-null   int64\n",
      "dtypes: int32(5), int64(4)\n",
      "memory usage: 50.9 KB\n"
     ]
    }
   ],
   "source": [
    "#remove the old attributes after cleaned\n",
    "data = data.drop(columns=['lunch','gender','race/ethnicity','parental level of education','test preparation course'])\n",
    "data.info()"
   ]
  },
  {
   "cell_type": "code",
   "execution_count": 7,
   "metadata": {},
   "outputs": [
    {
     "data": {
      "text/html": [
       "<div>\n",
       "<style scoped>\n",
       "    .dataframe tbody tr th:only-of-type {\n",
       "        vertical-align: middle;\n",
       "    }\n",
       "\n",
       "    .dataframe tbody tr th {\n",
       "        vertical-align: top;\n",
       "    }\n",
       "\n",
       "    .dataframe thead th {\n",
       "        text-align: right;\n",
       "    }\n",
       "</style>\n",
       "<table border=\"1\" class=\"dataframe\">\n",
       "  <thead>\n",
       "    <tr style=\"text-align: right;\">\n",
       "      <th></th>\n",
       "      <th>math score</th>\n",
       "      <th>reading score</th>\n",
       "      <th>writing score</th>\n",
       "      <th>gender_cleaned</th>\n",
       "      <th>race/ethnicity_cleaned</th>\n",
       "      <th>parental_education_cleaned</th>\n",
       "      <th>lunch_cleaned</th>\n",
       "      <th>test_preparation_cleaned</th>\n",
       "      <th>avg_total_score</th>\n",
       "    </tr>\n",
       "  </thead>\n",
       "  <tbody>\n",
       "    <tr>\n",
       "      <th>0</th>\n",
       "      <td>72</td>\n",
       "      <td>72</td>\n",
       "      <td>74</td>\n",
       "      <td>1</td>\n",
       "      <td>1</td>\n",
       "      <td>3</td>\n",
       "      <td>0</td>\n",
       "      <td>0</td>\n",
       "      <td>72.666667</td>\n",
       "    </tr>\n",
       "    <tr>\n",
       "      <th>1</th>\n",
       "      <td>69</td>\n",
       "      <td>90</td>\n",
       "      <td>88</td>\n",
       "      <td>1</td>\n",
       "      <td>2</td>\n",
       "      <td>2</td>\n",
       "      <td>0</td>\n",
       "      <td>1</td>\n",
       "      <td>82.333333</td>\n",
       "    </tr>\n",
       "    <tr>\n",
       "      <th>2</th>\n",
       "      <td>90</td>\n",
       "      <td>95</td>\n",
       "      <td>93</td>\n",
       "      <td>1</td>\n",
       "      <td>1</td>\n",
       "      <td>5</td>\n",
       "      <td>0</td>\n",
       "      <td>0</td>\n",
       "      <td>92.666667</td>\n",
       "    </tr>\n",
       "    <tr>\n",
       "      <th>3</th>\n",
       "      <td>47</td>\n",
       "      <td>57</td>\n",
       "      <td>44</td>\n",
       "      <td>0</td>\n",
       "      <td>0</td>\n",
       "      <td>4</td>\n",
       "      <td>1</td>\n",
       "      <td>0</td>\n",
       "      <td>49.333333</td>\n",
       "    </tr>\n",
       "    <tr>\n",
       "      <th>4</th>\n",
       "      <td>76</td>\n",
       "      <td>78</td>\n",
       "      <td>75</td>\n",
       "      <td>0</td>\n",
       "      <td>2</td>\n",
       "      <td>2</td>\n",
       "      <td>0</td>\n",
       "      <td>0</td>\n",
       "      <td>76.333333</td>\n",
       "    </tr>\n",
       "  </tbody>\n",
       "</table>\n",
       "</div>"
      ],
      "text/plain": [
       "   math score  reading score  writing score  gender_cleaned  \\\n",
       "0          72             72             74               1   \n",
       "1          69             90             88               1   \n",
       "2          90             95             93               1   \n",
       "3          47             57             44               0   \n",
       "4          76             78             75               0   \n",
       "\n",
       "   race/ethnicity_cleaned  parental_education_cleaned  lunch_cleaned  \\\n",
       "0                       1                           3              0   \n",
       "1                       2                           2              0   \n",
       "2                       1                           5              0   \n",
       "3                       0                           4              1   \n",
       "4                       2                           2              0   \n",
       "\n",
       "   test_preparation_cleaned  avg_total_score  \n",
       "0                         0        72.666667  \n",
       "1                         1        82.333333  \n",
       "2                         0        92.666667  \n",
       "3                         0        49.333333  \n",
       "4                         0        76.333333  "
      ]
     },
     "execution_count": 7,
     "metadata": {},
     "output_type": "execute_result"
    }
   ],
   "source": [
    "#get the average of total score\n",
    "avg_total_score = data['total_score'] / 3\n",
    "data['avg_total_score'] = avg_total_score\n",
    "\n",
    "#drop column total score\n",
    "data = data.drop(columns=['total_score'])\n",
    "data.head()"
   ]
  },
  {
   "cell_type": "code",
   "execution_count": 8,
   "metadata": {},
   "outputs": [
    {
     "data": {
      "text/html": [
       "<div>\n",
       "<style scoped>\n",
       "    .dataframe tbody tr th:only-of-type {\n",
       "        vertical-align: middle;\n",
       "    }\n",
       "\n",
       "    .dataframe tbody tr th {\n",
       "        vertical-align: top;\n",
       "    }\n",
       "\n",
       "    .dataframe thead th {\n",
       "        text-align: right;\n",
       "    }\n",
       "</style>\n",
       "<table border=\"1\" class=\"dataframe\">\n",
       "  <thead>\n",
       "    <tr style=\"text-align: right;\">\n",
       "      <th></th>\n",
       "      <th>math score</th>\n",
       "      <th>reading score</th>\n",
       "      <th>writing score</th>\n",
       "      <th>gender_cleaned</th>\n",
       "      <th>race/ethnicity_cleaned</th>\n",
       "      <th>parental_education_cleaned</th>\n",
       "      <th>lunch_cleaned</th>\n",
       "      <th>test_preparation_cleaned</th>\n",
       "      <th>avg_total_score</th>\n",
       "    </tr>\n",
       "  </thead>\n",
       "  <tbody>\n",
       "    <tr>\n",
       "      <th>0</th>\n",
       "      <td>72</td>\n",
       "      <td>72</td>\n",
       "      <td>74</td>\n",
       "      <td>1</td>\n",
       "      <td>1</td>\n",
       "      <td>3</td>\n",
       "      <td>0</td>\n",
       "      <td>0</td>\n",
       "      <td>1</td>\n",
       "    </tr>\n",
       "    <tr>\n",
       "      <th>1</th>\n",
       "      <td>69</td>\n",
       "      <td>90</td>\n",
       "      <td>88</td>\n",
       "      <td>1</td>\n",
       "      <td>2</td>\n",
       "      <td>2</td>\n",
       "      <td>0</td>\n",
       "      <td>1</td>\n",
       "      <td>1</td>\n",
       "    </tr>\n",
       "    <tr>\n",
       "      <th>2</th>\n",
       "      <td>90</td>\n",
       "      <td>95</td>\n",
       "      <td>93</td>\n",
       "      <td>1</td>\n",
       "      <td>1</td>\n",
       "      <td>5</td>\n",
       "      <td>0</td>\n",
       "      <td>0</td>\n",
       "      <td>1</td>\n",
       "    </tr>\n",
       "    <tr>\n",
       "      <th>3</th>\n",
       "      <td>47</td>\n",
       "      <td>57</td>\n",
       "      <td>44</td>\n",
       "      <td>0</td>\n",
       "      <td>0</td>\n",
       "      <td>4</td>\n",
       "      <td>1</td>\n",
       "      <td>0</td>\n",
       "      <td>1</td>\n",
       "    </tr>\n",
       "    <tr>\n",
       "      <th>4</th>\n",
       "      <td>76</td>\n",
       "      <td>78</td>\n",
       "      <td>75</td>\n",
       "      <td>0</td>\n",
       "      <td>2</td>\n",
       "      <td>2</td>\n",
       "      <td>0</td>\n",
       "      <td>0</td>\n",
       "      <td>1</td>\n",
       "    </tr>\n",
       "  </tbody>\n",
       "</table>\n",
       "</div>"
      ],
      "text/plain": [
       "   math score  reading score  writing score  gender_cleaned  \\\n",
       "0          72             72             74               1   \n",
       "1          69             90             88               1   \n",
       "2          90             95             93               1   \n",
       "3          47             57             44               0   \n",
       "4          76             78             75               0   \n",
       "\n",
       "   race/ethnicity_cleaned  parental_education_cleaned  lunch_cleaned  \\\n",
       "0                       1                           3              0   \n",
       "1                       2                           2              0   \n",
       "2                       1                           5              0   \n",
       "3                       0                           4              1   \n",
       "4                       2                           2              0   \n",
       "\n",
       "   test_preparation_cleaned avg_total_score  \n",
       "0                         0               1  \n",
       "1                         1               1  \n",
       "2                         0               1  \n",
       "3                         0               1  \n",
       "4                         0               1  "
      ]
     },
     "execution_count": 8,
     "metadata": {},
     "output_type": "execute_result"
    }
   ],
   "source": [
    "#change average score to classification 0 - fail, 1 - pass\n",
    "passing_marks = 40\n",
    "data['avg_total_score'] = np.where(data['avg_total_score'] < passing_marks ,'0','1')\n",
    "data.head()"
   ]
  },
  {
   "cell_type": "code",
   "execution_count": 9,
   "metadata": {
    "scrolled": true
   },
   "outputs": [
    {
     "name": "stdout",
     "output_type": "stream",
     "text": [
      "     math score  reading score  writing score  gender_cleaned  \\\n",
      "0            72             72             74               1   \n",
      "1            69             90             88               1   \n",
      "2            90             95             93               1   \n",
      "3            47             57             44               0   \n",
      "4            76             78             75               0   \n",
      "..          ...            ...            ...             ...   \n",
      "995          88             99             95               1   \n",
      "996          62             55             55               0   \n",
      "997          59             71             65               1   \n",
      "998          68             78             77               1   \n",
      "999          77             86             86               1   \n",
      "\n",
      "     race/ethnicity_cleaned  parental_education_cleaned  lunch_cleaned  \\\n",
      "0                         1                           3              0   \n",
      "1                         2                           2              0   \n",
      "2                         1                           5              0   \n",
      "3                         0                           4              1   \n",
      "4                         2                           2              0   \n",
      "..                      ...                         ...            ...   \n",
      "995                       4                           5              0   \n",
      "996                       2                           0              1   \n",
      "997                       2                           0              1   \n",
      "998                       3                           2              0   \n",
      "999                       3                           2              1   \n",
      "\n",
      "     test_preparation_cleaned  \n",
      "0                           0  \n",
      "1                           1  \n",
      "2                           0  \n",
      "3                           0  \n",
      "4                           0  \n",
      "..                        ...  \n",
      "995                         1  \n",
      "996                         0  \n",
      "997                         1  \n",
      "998                         1  \n",
      "999                         0  \n",
      "\n",
      "[1000 rows x 8 columns]\n",
      "[1 1 1 1 1 1 1 1 1 1 1 1 1 1 1 1 1 0 1 1 1 1 1 1 1 1 1 1 1 1 1 1 1 1 1 1 1\n",
      " 1 1 1 1 1 1 1 1 1 1 1 1 1 1 1 1 1 1 0 1 1 1 0 1 0 1 1 1 1 0 1 1 1 1 1 1 1\n",
      " 1 1 0 1 1 1 1 1 1 1 0 1 1 1 1 1 1 0 1 1 1 1 1 1 1 1 1 1 1 1 1 1 1 1 1 1 1\n",
      " 1 1 1 1 1 1 1 1 1 1 1 1 1 1 1 1 1 1 1 1 1 1 1 1 1 1 1 1 1 1 1 1 1 1 0 1 1\n",
      " 1 1 1 1 1 1 1 1 1 1 1 1 1 1 1 1 1 1 1 1 1 1 1 1 1 1 1 1 1 1 1 1 1 1 1 1 1\n",
      " 1 1 1 1 1 1 1 1 1 1 1 1 1 1 1 1 1 1 1 1 1 1 1 1 1 1 0 1 1 1 1 1 0 1 1 1 1\n",
      " 1 1 1 1 1 1 1 1 1 1 1 1 1 1 1 1 1 1 1 1 1 1 1 1 1 1 1 1 1 1 1 1 1 1 1 1 1\n",
      " 1 1 1 1 1 1 1 1 1 1 1 1 1 1 1 1 1 1 1 1 1 1 1 1 1 1 1 1 1 1 1 1 1 1 1 1 1\n",
      " 1 1 1 1 1 1 1 1 1 1 1 1 1 1 1 1 1 1 1 1 1 1 1 1 1 1 1 1 1 1 1 0 1 1 1 0 1\n",
      " 1 1 1 1 1 0 1 1 1 1 1 1 1 1 1 1 1 1 1 1 1 1 1 1 1 1 1 1 1 1 0 1 1 1 1 1 1\n",
      " 1 1 1 1 1 1 1 1 1 1 1 1 1 1 1 1 1 1 1 1 1 1 1 1 1 1 1 1 1 1 1 1 1 1 1 1 1\n",
      " 1 1 1 1 1 1 1 1 1 1 1 1 1 1 1 1 1 0 1 1 1 1 1 1 1 1 1 1 1 1 1 1 1 1 1 1 1\n",
      " 1 1 1 1 1 1 1 1 1 1 1 1 1 1 1 1 1 1 1 1 1 1 0 1 1 1 1 1 1 1 1 1 1 1 1 1 1\n",
      " 1 1 1 1 1 1 1 1 1 1 1 1 1 1 1 1 1 1 1 1 1 1 1 1 1 1 1 1 1 1 1 1 1 1 1 1 1\n",
      " 1 1 1 1 1 1 1 1 1 1 0 1 1 1 1 1 1 1 1 1 1 1 1 1 1 1 1 1 1 1 1 1 1 1 1 1 1\n",
      " 0 1 1 1 1 1 1 1 1 1 1 1 1 1 1 1 1 1 1 1 1 1 1 1 1 1 1 1 1 1 1 1 1 1 1 1 1\n",
      " 1 1 1 1 0 1 1 1 1 0 1 1 1 1 1 1 1 1 1 1 1 1 1 1 1 1 1 1 1 1 1 1 1 1 1 1 1\n",
      " 1 1 1 1 1 1 1 1 1 1 1 1 1 1 1 1 1 1 1 1 1 1 1 1 1 1 1 1 1 1 1 1 1 1 1 1 1\n",
      " 1 1 1 1 1 1 1 1 1 1 1 1 1 1 1 1 1 0 1 1 1 1 1 1 1 1 1 1 1 1 1 1 1 1 1 1 1\n",
      " 1 1 1 0 1 1 1 1 1 1 1 1 1 1 1 1 1 1 1 1 1 1 1 1 1 1 1 1 1 1 1 1 1 1 1 1 1\n",
      " 1 1 1 1 1 1 1 1 1 1 1 1 1 1 1 1 1 1 1 1 1 1 1 1 1 1 1 1 1 1 1 1 1 1 1 1 1\n",
      " 1 1 1 1 1 1 1 1 1 1 0 1 1 1 1 1 1 1 1 1 1 1 1 1 1 1 1 1 1 1 1 1 1 0 1 1 1\n",
      " 1 1 1 1 1 1 1 1 1 1 1 1 1 1 1 1 1 1 1 1 1 1 1 1 1 1 1 1 0 1 1 1 1 1 1 1 1\n",
      " 1 1 1 1 1 1 1 1 1 1 1 0 1 1 1 1 1 1 1 1 1 1 1 1 1 1 1 1 1 1 1 1 1 1 1 1 1\n",
      " 1 1 1 1 1 1 1 0 0 1 1 1 1 1 1 1 1 1 1 1 1 1 1 1 1 1 1 1 1 1 1 1 1 1 1 1 1\n",
      " 1 1 1 1 1 1 1 1 1 1 1 1 1 1 1 1 1 1 1 1 1 1 1 1 1 1 1 1 1 1 1 1 1 1 1 1 1\n",
      " 1 1 1 1 1 1 1 1 1 1 1 1 1 1 1 1 1 1 0 1 1 1 1 1 1 1 1 1 1 1 1 1 1 1 1 1 1\n",
      " 1]\n"
     ]
    }
   ],
   "source": [
    "# import label encoder library to deal with categorical data\n",
    "from sklearn.preprocessing import LabelEncoder\n",
    "\n",
    "# select all columns except the last one (the target label)\n",
    "x=data.iloc[:,:-1]\n",
    "\n",
    "# set target categorical data label (the last attribute)\n",
    "y=data.iloc[:,-1]\n",
    "\n",
    "labelencoder = LabelEncoder()\n",
    "y = labelencoder.fit_transform(y)\n",
    "print (x)\n",
    "print (y)"
   ]
  },
  {
   "cell_type": "code",
   "execution_count": 10,
   "metadata": {},
   "outputs": [
    {
     "data": {
      "text/plain": [
       "(1000, 8)"
      ]
     },
     "metadata": {},
     "output_type": "display_data"
    }
   ],
   "source": [
    "#select specific/related features\n",
    "used_features=[ \n",
    "    \"math score\",\n",
    "    \"reading score\",\n",
    "    \"writing score\",\n",
    "    \"gender_cleaned\",\n",
    "    \"race/ethnicity_cleaned\",\n",
    "    \"parental_education_cleaned\",\n",
    "    \"lunch_cleaned\",\n",
    "    \"test_preparation_cleaned\"\n",
    "]\n",
    "\n",
    "x = data[used_features] # select all attributes\n",
    "y = data[\"avg_total_score\"] #class target\n",
    "\n",
    "display(x.shape)"
   ]
  },
  {
   "cell_type": "markdown",
   "metadata": {},
   "source": [
    "Splitting the data into 70% training data and 30% test data"
   ]
  },
  {
   "cell_type": "code",
   "execution_count": 11,
   "metadata": {},
   "outputs": [],
   "source": [
    "x = data [used_features]\n",
    "y = data[\"avg_total_score\"]"
   ]
  },
  {
   "cell_type": "code",
   "execution_count": 12,
   "metadata": {},
   "outputs": [],
   "source": [
    "#import machine learning library to sample the data\n",
    "from sklearn.model_selection import train_test_split\n",
    "\n",
    "# split the data into training data and test data\n",
    "x_train,x_test,y_train,y_test = train_test_split(x, y, test_size=0.3, random_state=0)"
   ]
  },
  {
   "cell_type": "markdown",
   "metadata": {},
   "source": [
    "Sampling the data because the data not balance"
   ]
  },
  {
   "cell_type": "code",
   "execution_count": 13,
   "metadata": {},
   "outputs": [
    {
     "name": "stdout",
     "output_type": "stream",
     "text": [
      "Counter({'1': 680, '0': 680})\n"
     ]
    }
   ],
   "source": [
    "from imblearn.over_sampling import RandomOverSampler\n",
    "from sklearn.datasets import make_classification\n",
    "from collections import Counter\n",
    "#instantiating the random oversampler \n",
    "ros = RandomOverSampler()\n",
    "# resampling X, y\n",
    "x_train1, y_train1 = ros.fit_resample(x_train, y_train)\n",
    "\n",
    "# new class distribution \n",
    "print(Counter(y_train1))"
   ]
  },
  {
   "cell_type": "code",
   "execution_count": 14,
   "metadata": {},
   "outputs": [
    {
     "name": "stdout",
     "output_type": "stream",
     "text": [
      "x axis test\n",
      "     math score  reading score  writing score  gender_cleaned  \\\n",
      "993          62             72             74               1   \n",
      "859          87             73             72               0   \n",
      "298          40             46             50               0   \n",
      "553          77             62             64               0   \n",
      "672          69             78             76               1   \n",
      "..          ...            ...            ...             ...   \n",
      "167          58             76             78               1   \n",
      "998          68             78             77               1   \n",
      "984          74             75             82               1   \n",
      "491          64             64             70               1   \n",
      "10           58             54             52               0   \n",
      "\n",
      "     race/ethnicity_cleaned  parental_education_cleaned  lunch_cleaned  \\\n",
      "993                       3                           3              1   \n",
      "859                       2                           4              1   \n",
      "298                       2                           0              1   \n",
      "553                       3                           2              1   \n",
      "672                       2                           2              0   \n",
      "..                      ...                         ...            ...   \n",
      "167                       1                           5              1   \n",
      "998                       3                           2              0   \n",
      "984                       2                           1              0   \n",
      "491                       2                           4              0   \n",
      "10                        2                           4              0   \n",
      "\n",
      "     test_preparation_cleaned  \n",
      "993                         0  \n",
      "859                         0  \n",
      "298                         1  \n",
      "553                         0  \n",
      "672                         0  \n",
      "..                        ...  \n",
      "167                         1  \n",
      "998                         1  \n",
      "984                         0  \n",
      "491                         0  \n",
      "10                          0  \n",
      "\n",
      "[300 rows x 8 columns]\n",
      "x axis train\n",
      "      math score  reading score  writing score  gender_cleaned  \\\n",
      "0             58             67             72               1   \n",
      "1             61             58             56               0   \n",
      "2             76             71             67               0   \n",
      "3             60             59             54               0   \n",
      "4             73             66             66               0   \n",
      "...          ...            ...            ...             ...   \n",
      "1355          29             40             44               1   \n",
      "1356          51             31             36               0   \n",
      "1357           0             17             10               1   \n",
      "1358          30             26             22               0   \n",
      "1359          18             32             28               1   \n",
      "\n",
      "      race/ethnicity_cleaned  parental_education_cleaned  lunch_cleaned  \\\n",
      "0                          2                           2              0   \n",
      "1                          1                           4              1   \n",
      "2                          4                           4              0   \n",
      "3                          3                           1              0   \n",
      "4                          2                           1              0   \n",
      "...                      ...                         ...            ...   \n",
      "1355                       2                           1              1   \n",
      "1356                       0                           1              0   \n",
      "1357                       2                           1              1   \n",
      "1358                       4                           1              0   \n",
      "1359                       1                           1              1   \n",
      "\n",
      "      test_preparation_cleaned  \n",
      "0                            0  \n",
      "1                            0  \n",
      "2                            0  \n",
      "3                            0  \n",
      "4                            0  \n",
      "...                        ...  \n",
      "1355                         1  \n",
      "1356                         0  \n",
      "1357                         0  \n",
      "1358                         0  \n",
      "1359                         0  \n",
      "\n",
      "[1360 rows x 8 columns]\n",
      "y axis test\n",
      "993    1\n",
      "859    1\n",
      "298    1\n",
      "553    1\n",
      "672    1\n",
      "      ..\n",
      "167    1\n",
      "998    1\n",
      "984    1\n",
      "491    1\n",
      "10     1\n",
      "Name: avg_total_score, Length: 300, dtype: object\n",
      "y axis train\n",
      "0       1\n",
      "1       1\n",
      "2       1\n",
      "3       1\n",
      "4       1\n",
      "       ..\n",
      "1355    0\n",
      "1356    0\n",
      "1357    0\n",
      "1358    0\n",
      "1359    0\n",
      "Name: avg_total_score, Length: 1360, dtype: object\n"
     ]
    }
   ],
   "source": [
    "print('x axis test')\n",
    "print(x_test)\n",
    "print('x axis train')\n",
    "print(x_train1)\n",
    "print('y axis test')\n",
    "print(y_test)\n",
    "print('y axis train')\n",
    "print(y_train1)"
   ]
  },
  {
   "cell_type": "code",
   "execution_count": 15,
   "metadata": {},
   "outputs": [
    {
     "data": {
      "text/plain": [
       "StandardScaler()"
      ]
     },
     "execution_count": 15,
     "metadata": {},
     "output_type": "execute_result"
    }
   ],
   "source": [
    "# import machine learning library to standardize the data\n",
    "from sklearn.preprocessing import StandardScaler\n",
    "\n",
    "sc=StandardScaler()\n",
    "sc.fit_transform(x_train1,y_train1)\n",
    "sc.fit(x_test,y_test)"
   ]
  },
  {
   "cell_type": "markdown",
   "metadata": {},
   "source": [
    "Naive Bayes with Gaussian"
   ]
  },
  {
   "cell_type": "code",
   "execution_count": 16,
   "metadata": {},
   "outputs": [
    {
     "name": "stdout",
     "output_type": "stream",
     "text": [
      "Number of mislabeled points out of a total 300 points : 6, performance 98.00%\n"
     ]
    },
    {
     "data": {
      "text/plain": [
       "Text(0.5, 24.0, 'Predicted label')"
      ]
     },
     "execution_count": 16,
     "metadata": {},
     "output_type": "execute_result"
    },
    {
     "data": {
      "image/png": "[encoded data removed]",
      "text/plain": [
       "<Figure size 720x360 with 2 Axes>"
      ]
     },
     "metadata": {
      "needs_background": "light"
     },
     "output_type": "display_data"
    }
   ],
   "source": [
    "from sklearn.naive_bayes import GaussianNB, BernoulliNB, MultinomialNB\n",
    "\n",
    "# Instantiate the classifier\n",
    "gnb = GaussianNB()\n",
    "#bnb = BernoulliNB()\n",
    "#mnb = MultinomialNB()\n",
    "\n",
    "# Train classifier\n",
    "gnb.fit(x_train1,y_train1)\n",
    "#bnb.fit(x_train,y_train)\n",
    "#mnb.fit(x_train,y_train)\n",
    "\n",
    "# Test the classifier\n",
    "y_predict = gnb.predict(x_test)\n",
    "#predict = bnb.predict(x_test)\n",
    "#predict = mnb.predict(x_test)\n",
    "\n",
    "# Print results\n",
    "print(\"Number of mislabeled points out of a total {} points : {}, performance {:05.2f}%\"\n",
    ".format(x_test.shape[0], (y_test != y_predict).sum(), gnb.score(x_test,y_test)*100 ))\n",
    "\n",
    "# Creates a confusion matrix\n",
    "cm = confusion_matrix(y_test, y_predict)\n",
    "\n",
    "# Transform to dataframe for easier plotting\n",
    "cm_df = pd.DataFrame(cm, index = ['0','1'], columns = ['0','1'])\n",
    "\n",
    "# plot the confusion matrix\n",
    "plt.figure(figsize=(10,5))\n",
    "sns.heatmap(cm_df, annot=True, fmt='g')\n",
    "plt.title(\"Naive Bayes Accuracy:\" + str(gnb.score(x_test,y_test)*100))\n",
    "plt.ylabel('True label')\n",
    "plt.xlabel('Predicted label')"
   ]
  },
  {
   "cell_type": "markdown",
   "metadata": {},
   "source": [
    "Naive Bayes with Bernoulli"
   ]
  },
  {
   "cell_type": "code",
   "execution_count": 17,
   "metadata": {},
   "outputs": [
    {
     "name": "stdout",
     "output_type": "stream",
     "text": [
      "Number of mislabeled points out of a total 300 points : 75, performance 75.00%\n"
     ]
    },
    {
     "data": {
      "text/plain": [
       "Text(0.5, 24.0, 'Predicted label')"
      ]
     },
     "execution_count": 17,
     "metadata": {},
     "output_type": "execute_result"
    },
    {
     "data": {
      "image/png": "[encoded data removed]",
      "text/plain": [
       "<Figure size 720x360 with 2 Axes>"
      ]
     },
     "metadata": {
      "needs_background": "light"
     },
     "output_type": "display_data"
    }
   ],
   "source": [
    "# Instantiate the classifier\n",
    "#gnb = GaussianNB()\n",
    "bnb = BernoulliNB()\n",
    "#mnb = MultinomialNB()\n",
    "\n",
    "# Train classifier\n",
    "#gnb.fit(x_train,y_train)\n",
    "bnb.fit(x_train1,y_train1)\n",
    "#mnb.fit(x_train,y_train)\n",
    "\n",
    "# Test the classifier\n",
    "#y_predict = gnb.predict(x_test)\n",
    "y_predict = bnb.predict(x_test)\n",
    "#predict = mnb.predict(x_test)\n",
    "\n",
    "# Print results\n",
    "print(\"Number of mislabeled points out of a total {} points : {}, performance {:05.2f}%\"\n",
    ".format(x_test.shape[0], (y_test != y_predict).sum(), bnb.score(x_test,y_test)*100 ))\n",
    "\n",
    "# Creates a confusion matrix\n",
    "cm = confusion_matrix(y_test, y_predict)\n",
    "\n",
    "# Transform to dataframe for easier plotting\n",
    "cm_df = pd.DataFrame(cm, index = ['0','1'], columns = ['0','1'])\n",
    "\n",
    "# plot the confusion matrix\n",
    "plt.figure(figsize=(10,5))\n",
    "sns.heatmap(cm_df, annot=True, fmt='g')\n",
    "plt.title(\"Naive Bayes Accuracy:\" + str(bnb.score(x_test,y_test)*100))\n",
    "plt.ylabel('True label')\n",
    "plt.xlabel('Predicted label')"
   ]
  },
  {
   "cell_type": "markdown",
   "metadata": {},
   "source": [
    "Naive Bayes with Multinomial"
   ]
  },
  {
   "cell_type": "code",
   "execution_count": 18,
   "metadata": {},
   "outputs": [
    {
     "name": "stdout",
     "output_type": "stream",
     "text": [
      "Number of mislabeled points out of a total 300 points : 49, performance 83.67%\n"
     ]
    },
    {
     "data": {
      "text/plain": [
       "Text(0.5, 24.0, 'Predicted label')"
      ]
     },
     "execution_count": 18,
     "metadata": {},
     "output_type": "execute_result"
    },
    {
     "data": {
      "image/png": "[encoded data removed]",
      "text/plain": [
       "<Figure size 720x360 with 2 Axes>"
      ]
     },
     "metadata": {
      "needs_background": "light"
     },
     "output_type": "display_data"
    }
   ],
   "source": [
    "# Instantiate the classifier\n",
    "#gnb = GaussianNB()\n",
    "#bnb = BernoulliNB()\n",
    "mnb = MultinomialNB()\n",
    "\n",
    "# Train classifier\n",
    "#gnb.fit(x_train,y_train)\n",
    "#bnb.fit(x_train,y_train)\n",
    "mnb.fit(x_train1,y_train1)\n",
    "\n",
    "# Test the classifier\n",
    "#y_predict = gnb.predict(x_test)\n",
    "#y_predict = bnb.predict(x_test)\n",
    "y_predict = mnb.predict(x_test)\n",
    "\n",
    "# Print results\n",
    "print(\"Number of mislabeled points out of a total {} points : {}, performance {:05.2f}%\"\n",
    ".format(x_test.shape[0], (y_test != y_predict).sum(), mnb.score(x_test,y_test)*100 ))\n",
    "\n",
    "# Creates a confusion matrix\n",
    "cm = confusion_matrix(y_test, y_predict)\n",
    "\n",
    "# Transform to dataframe for easier plotting\n",
    "cm_df = pd.DataFrame(cm, index = ['0','1'], columns = ['0','1'])\n",
    "\n",
    "# plot the confusion matrix\n",
    "plt.figure(figsize=(10,5))\n",
    "sns.heatmap(cm_df, annot=True, fmt='g')\n",
    "plt.title(\"Naive Bayes Accuracy:\" + str(mnb.score(x_test,y_test)*100))\n",
    "plt.ylabel('True label')\n",
    "plt.xlabel('Predicted label')"
   ]
  },
  {
   "cell_type": "markdown",
   "metadata": {},
   "source": [
    "Naive Bayes with Gaussian parameter tuning"
   ]
  },
  {
   "cell_type": "code",
   "execution_count": 19,
   "metadata": {},
   "outputs": [
    {
     "name": "stdout",
     "output_type": "stream",
     "text": [
      "Number of mislabeled points out of a total 300 points : 6, performance 98.00%\n"
     ]
    },
    {
     "data": {
      "text/plain": [
       "Text(0.5, 24.0, 'Predicted label')"
      ]
     },
     "execution_count": 19,
     "metadata": {},
     "output_type": "execute_result"
    },
    {
     "data": {
      "image/png": "[encoded data removed]",
      "text/plain": [
       "<Figure size 720x360 with 2 Axes>"
      ]
     },
     "metadata": {
      "needs_background": "light"
     },
     "output_type": "display_data"
    }
   ],
   "source": [
    "from sklearn.naive_bayes import GaussianNB, BernoulliNB, MultinomialNB\n",
    "\n",
    "# Instantiate the classifier\n",
    "gnb = GaussianNB(var_smoothing = 2e-9)\n",
    "#bnb = BernoulliNB()\n",
    "#mnb = MultinomialNB()\n",
    "\n",
    "# Train classifier\n",
    "gnb.fit(x_train1,y_train1)\n",
    "#bnb.fit(x_train,y_train)\n",
    "#mnb.fit(x_train,y_train)\n",
    "\n",
    "# Test the classifier\n",
    "y_predict = gnb.predict(x_test, cv=5)\n",
    "#y_predict = bnb.predict(x_test)\n",
    "#y_predict = mnb.predict(x_test)\n",
    "\n",
    "# Print results\n",
    "print(\"Number of mislabeled points out of a total {} points : {}, performance {:05.2f}%\"\n",
    ".format(x_test.shape[0], (y_test != y_predict).sum(), gnb.score(x_test,y_test)*100 ))\n",
    "\n",
    "# Creates a confusion matrix\n",
    "cm = confusion_matrix(y_test, y_predict)\n",
    "\n",
    "# Transform to dataframe for easier plotting\n",
    "cm_df = pd.DataFrame(cm, index = ['0','1'], columns = ['0','1'])\n",
    "\n",
    "# plot the confusion matrix\n",
    "plt.figure(figsize=(10,5))\n",
    "sns.heatmap(cm_df, annot=True, fmt='g')\n",
    "plt.title(\"Naive Bayes Accuracy:\" + str(gnb.score(x_test,y_test)*100))\n",
    "plt.ylabel('True label')\n",
    "plt.xlabel('Predicted label')"
   ]
  },
  {
   "cell_type": "code",
   "execution_count": 21,
   "metadata": {},
   "outputs": [
    {
     "name": "stdout",
     "output_type": "stream",
     "text": [
      "              precision    recall  f1-score   support\n",
      "\n",
      "           0       0.62      1.00      0.77        10\n",
      "           1       1.00      0.98      0.99       290\n",
      "\n",
      "    accuracy                           0.98       300\n",
      "   macro avg       0.81      0.99      0.88       300\n",
      "weighted avg       0.99      0.98      0.98       300\n",
      "\n"
     ]
    }
   ],
   "source": [
    "from sklearn.metrics import classification_report\n",
    "print(classification_report(y_test, y_predict))"
   ]
  },
  {
   "cell_type": "code",
   "execution_count": 24,
   "metadata": {},
   "outputs": [
    {
     "name": "stdout",
     "output_type": "stream",
     "text": [
      "Cross-validation scores:[0.97426471 0.98529412 0.98529412 0.98897059 0.97058824]\n",
      "Average cross-validation score: 0.9809\n"
     ]
    }
   ],
   "source": [
    "# Applying 5-Fold Cross Validation\n",
    "from sklearn.model_selection import cross_val_score\n",
    "\n",
    "scores = cross_val_score(gnb, x_train1, y_train1, cv = 5, scoring='accuracy')\n",
    "\n",
    "print('Cross-validation scores:{}'.format(scores))\n",
    "\n",
    "# compute Average cross-validation score\n",
    "print('Average cross-validation score: {:.4f}'.format(scores.mean()))"
   ]
  },
  {
   "cell_type": "code",
   "execution_count": 25,
   "metadata": {},
   "outputs": [
    {
     "name": "stdout",
     "output_type": "stream",
     "text": [
      "Cross-validation scores:[0.77205882 0.8125     0.78308824 0.76470588 0.72058824]\n",
      "Average cross-validation score: 0.7706\n"
     ]
    }
   ],
   "source": [
    "# Applying 5-Fold Cross Validation\n",
    "from sklearn.model_selection import cross_val_score\n",
    "\n",
    "scores = cross_val_score(bnb, x_train1, y_train1, cv = 5, scoring='accuracy')\n",
    "\n",
    "print('Cross-validation scores:{}'.format(scores))\n",
    "\n",
    "# compute Average cross-validation score\n",
    "print('Average cross-validation score: {:.4f}'.format(scores.mean()))"
   ]
  },
  {
   "cell_type": "code",
   "execution_count": 26,
   "metadata": {},
   "outputs": [
    {
     "name": "stdout",
     "output_type": "stream",
     "text": [
      "Cross-validation scores:[0.86764706 0.90808824 0.80882353 0.90073529 0.87132353]\n",
      "Average cross-validation score: 0.8713\n"
     ]
    }
   ],
   "source": [
    "# Applying 5-Fold Cross Validation\n",
    "from sklearn.model_selection import cross_val_score\n",
    "\n",
    "scores = cross_val_score(mnb, x_train1, y_train1, cv = 5, scoring='accuracy')\n",
    "\n",
    "print('Cross-validation scores:{}'.format(scores))\n",
    "\n",
    "# compute Average cross-validation score\n",
    "print('Average cross-validation score: {:.4f}'.format(scores.mean()))"
   ]
  },
  {
   "cell_type": "code",
   "execution_count": null,
   "metadata": {},
   "outputs": [],
   "source": []
  }
 ],
 "metadata": {
  "kernelspec": {
   "display_name": "Python 3",
   "language": "python",
   "name": "python3"
  },
  "language_info": {
   "codemirror_mode": {
    "name": "ipython",
    "version": 3
   },
   "file_extension": ".py",
   "mimetype": "text/x-python",
   "name": "python",
   "nbconvert_exporter": "python",
   "pygments_lexer": "ipython3",
   "version": "3.8.5"
  }
 },
 "nbformat": 4,
 "nbformat_minor": 4
}
